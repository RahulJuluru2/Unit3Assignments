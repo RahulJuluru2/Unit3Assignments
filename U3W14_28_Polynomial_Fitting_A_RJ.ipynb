{
  "nbformat": 4,
  "nbformat_minor": 0,
  "metadata": {
    "colab": {
      "name": "U3W14_28_Polynomial_Fitting_A_RJ.ipynb",
      "provenance": [],
      "collapsed_sections": [],
      "include_colab_link": true
    },
    "kernelspec": {
      "name": "python3",
      "display_name": "Python 3"
    },
    "accelerator": "GPU"
  },
  "cells": [
    {
      "cell_type": "markdown",
      "metadata": {
        "id": "view-in-github",
        "colab_type": "text"
      },
      "source": [
        "<a href=\"https://colab.research.google.com/github/RahulJuluru2/unit3assignments/blob/main/U3W14_28_Polynomial_Fitting_A_RJ.ipynb\" target=\"_parent\"><img src=\"https://colab.research.google.com/assets/colab-badge.svg\" alt=\"Open In Colab\"/></a>"
      ]
    },
    {
      "cell_type": "markdown",
      "metadata": {
        "id": "-zSWyuZTlYS1"
      },
      "source": [
        "\n",
        "# Advanced Certification in AIML\n",
        "## A Program by IIIT-H and TalentSprint"
      ]
    },
    {
      "cell_type": "markdown",
      "metadata": {
        "id": "oU2MBx7JtTyP"
      },
      "source": [
        "## Learning Objectives"
      ]
    },
    {
      "cell_type": "markdown",
      "metadata": {
        "id": "Ot3pfe3AtWaN"
      },
      "source": [
        "At the end of the experiment, you will be able to:\n",
        "\n",
        "\n",
        "* understand Bias and Variance    \n",
        "* know how does the degree of the polynomial affect the bias and variance"
      ]
    },
    {
      "cell_type": "code",
      "metadata": {
        "id": "WiV7Z4S-52SJ",
        "cellView": "form",
        "colab": {
          "base_uri": "https://localhost:8080/",
          "height": 522
        },
        "outputId": "d0a27a73-be02-44fc-87de-1fc5ec73282c"
      },
      "source": [
        "#@title Experiment Explanation Video\n",
        "from IPython.display import HTML\n",
        "\n",
        "HTML(\"\"\"<video width=\"854\" height=\"480\" controls>\n",
        "  <source src=\"https://cdn.talentsprint.com/talentsprint1/archives/sc/aiml/module_2_week_8_experment_3.mp4\" type=\"video/mp4\">\n",
        "</video>\n",
        "\"\"\")"
      ],
      "execution_count": 1,
      "outputs": [
        {
          "output_type": "execute_result",
          "data": {
            "text/plain": [
              "<IPython.core.display.HTML object>"
            ],
            "text/html": [
              "<video width=\"854\" height=\"480\" controls>\n",
              "  <source src=\"https://cdn.talentsprint.com/talentsprint1/archives/sc/aiml/module_2_week_8_experment_3.mp4\" type=\"video/mp4\">\n",
              "</video>\n"
            ]
          },
          "metadata": {},
          "execution_count": 1
        }
      ]
    },
    {
      "cell_type": "markdown",
      "metadata": {
        "id": "35RBpSDUtYUm"
      },
      "source": [
        "## Dataset"
      ]
    },
    {
      "cell_type": "markdown",
      "metadata": {
        "id": "SVIILnxWtcKA"
      },
      "source": [
        "### Description\n",
        "\n",
        "In this experiment, we have chosen sine curve real data.  As the real-world is never perfectly clean however, we add noise to the curve to show that the real-world data is noisy. This is done by adding a small random number to each value. \n"
      ]
    },
    {
      "cell_type": "markdown",
      "metadata": {
        "id": "fi4X52VouBL4"
      },
      "source": [
        "## AI /ML Technique"
      ]
    },
    {
      "cell_type": "markdown",
      "metadata": {
        "id": "lgAparrouDiQ"
      },
      "source": [
        "In this experiment, we use the sine curve to understand how the change in bias and variance affects the degree of a polynomial.\n",
        "\n",
        "\n",
        "### Bias and Variance:\n",
        "\n",
        "The **bias** is an error from erroneous assumptions in the learning algorithm. High bias can cause an algorithm to miss the relevant relations between features and target outputs (underfitting). \n",
        "\n",
        "The **variance** is an error from sensitivity to small fluctuations in the training set. High variance can cause an algorithm to model the random noise in the training data, rather than the intended outputs (overfitting). The below image shows how the overfitting and underfitting looks.\n",
        "\n",
        "![alt text](https://cdn.talentsprint.com/aiml/Experiment_related_data/IMAGES/Overfitting.png)\n",
        "\n",
        "\n",
        "\n",
        "\n",
        "You can use any polynomial of higher order to project the idea of bias and variance. However, the sine values suit our experiment better because it is a curve that is complex enough not to fit with simple linear or quadratic equations (to show bias) however it will overfit our data with higher-order polynomials (6th order).\n",
        "\n",
        "We want to try and capture the data using a polynomial function. A polynomial is defined by the degree or the highest power for the x-values. A line has a degree of 1 because it is of the form $y = m_1*x + c$ where $m$ is the slope and $c$ is the intercept. A third-degree polynomial would have the form $y = m_3 * x^3 + m_2 * x^2 + m_1* x + c$ and so on. The higher the degree of the polynomial, the more flexible the model.\n",
        "\n",
        "\n",
        "We use fit_poly() to create a polynomial function with the specified number of degrees and plots the results. We can use these results to determine the optimal degrees to achieve the right balance between overfitting and underfitting. \n",
        "\n",
        "\n",
        "In this experiment, we will try : \n",
        "* To observe how the model changes with changing degrees.\n",
        "* To estimate the errors."
      ]
    },
    {
      "cell_type": "markdown",
      "metadata": {
        "id": "iiXPGTW_lgPr"
      },
      "source": [
        "## Setup Steps"
      ]
    },
    {
      "cell_type": "code",
      "metadata": {
        "id": "b6IbB-MBliAa"
      },
      "source": [
        "#@title Please enter your registration id to start: { run: \"auto\", display-mode: \"form\" }\n",
        "Id = \"2216842\" #@param {type:\"string\"}\n"
      ],
      "execution_count": 2,
      "outputs": []
    },
    {
      "cell_type": "code",
      "metadata": {
        "id": "qNFH7eLklj18"
      },
      "source": [
        "#@title Please enter your password (normally your phone number) to continue: { run: \"auto\", display-mode: \"form\" }\n",
        "password = \"9959488784\" #@param {type:\"string\"}\n"
      ],
      "execution_count": 3,
      "outputs": []
    },
    {
      "cell_type": "code",
      "metadata": {
        "id": "Tles91FY20M8",
        "cellView": "form",
        "colab": {
          "base_uri": "https://localhost:8080/",
          "height": 34
        },
        "outputId": "a73256d3-7df0-4769-aac2-01e60f611825"
      },
      "source": [
        "#@title Run this cell to complete the setup for this Notebook  \n",
        "from IPython import get_ipython\n",
        "import warnings\n",
        "warnings.filterwarnings(\"ignore\")\n",
        "\n",
        "ipython = get_ipython()\n",
        "  \n",
        "notebook=\"U3W14_28_Polynomial_Fitting_A\" #name of the notebook\n",
        "def setup():\n",
        "#  ipython.magic(\"sx pip3 install torch\")  \n",
        "    from IPython.display import HTML, display\n",
        "    display(HTML('<script src=\"https://dashboard.talentsprint.com/aiml/record_ip.html?traineeId={0}&recordId={1}\"></script>'.format(getId(),submission_id)))\n",
        "    print(\"Setup completed successfully\")\n",
        "    return\n",
        "\n",
        "\n",
        "def submit_notebook():\n",
        "    ipython.magic(\"notebook -e \"+ notebook + \".ipynb\")\n",
        "    \n",
        "    import requests, json, base64, datetime\n",
        "\n",
        "    url = \"https://dashboard.talentsprint.com/xp/app/save_notebook_attempts\"\n",
        "    if not submission_id:\n",
        "      data = {\"id\" : getId(), \"notebook\" : notebook, \"mobile\" : getPassword()}\n",
        "      r = requests.post(url, data = data)\n",
        "      r = json.loads(r.text)\n",
        "\n",
        "      if r[\"status\"] == \"Success\":\n",
        "          return r[\"record_id\"]\n",
        "      elif \"err\" in r:        \n",
        "        print(r[\"err\"])\n",
        "        return None        \n",
        "      else:\n",
        "        print (\"Something is wrong, the notebook will not be submitted for grading\")\n",
        "        return None\n",
        "    \n",
        "    elif getAnswer() and getComplexity() and getAdditional() and getConcepts() and getWalkthrough() and getComments() and getMentorSupport():\n",
        "      f = open(notebook + \".ipynb\", \"rb\")\n",
        "      file_hash = base64.b64encode(f.read())\n",
        "\n",
        "      data = {\"complexity\" : Complexity, \"additional\" :Additional, \n",
        "              \"concepts\" : Concepts, \"record_id\" : submission_id, \n",
        "              \"answer\" : Answer, \"id\" : Id, \"file_hash\" : file_hash,\n",
        "              \"notebook\" : notebook, \"feedback_walkthrough\":Walkthrough ,\n",
        "              \"feedback_experiments_input\" : Comments,\n",
        "              \"feedback_mentor_support\": Mentor_support}\n",
        "\n",
        "      r = requests.post(url, data = data)\n",
        "      r = json.loads(r.text)\n",
        "      if \"err\" in r:        \n",
        "        print(r[\"err\"])\n",
        "        return None   \n",
        "      else:\n",
        "        print(\"Your submission is successful.\")\n",
        "        print(\"Ref Id:\", submission_id)\n",
        "        print(\"Date of submission: \", r[\"date\"])\n",
        "        print(\"Time of submission: \", r[\"time\"])\n",
        "        print(\"View your submissions: https://aiml.iiith.talentsprint.com/notebook_submissions\")\n",
        "        #print(\"For any queries/discrepancies, please connect with mentors through the chat icon in LMS dashboard.\")\n",
        "        return submission_id\n",
        "    else: submission_id\n",
        "    \n",
        "\n",
        "def getAdditional():\n",
        "  try:\n",
        "    if not Additional: \n",
        "      raise NameError\n",
        "    else:\n",
        "      return Additional  \n",
        "  except NameError:\n",
        "    print (\"Please answer Additional Question\")\n",
        "    return None\n",
        "\n",
        "def getComplexity():\n",
        "  try:\n",
        "    if not Complexity:\n",
        "      raise NameError\n",
        "    else:\n",
        "      return Complexity\n",
        "  except NameError:\n",
        "    print (\"Please answer Complexity Question\")\n",
        "    return None\n",
        "  \n",
        "def getConcepts():\n",
        "  try:\n",
        "    if not Concepts:\n",
        "      raise NameError\n",
        "    else:\n",
        "      return Concepts\n",
        "  except NameError:\n",
        "    print (\"Please answer Concepts Question\")\n",
        "    return None\n",
        "  \n",
        "  \n",
        "def getWalkthrough():\n",
        "  try:\n",
        "    if not Walkthrough:\n",
        "      raise NameError\n",
        "    else:\n",
        "      return Walkthrough\n",
        "  except NameError:\n",
        "    print (\"Please answer Walkthrough Question\")\n",
        "    return None\n",
        "  \n",
        "def getComments():\n",
        "  try:\n",
        "    if not Comments:\n",
        "      raise NameError\n",
        "    else:\n",
        "      return Comments\n",
        "  except NameError:\n",
        "    print (\"Please answer Comments Question\")\n",
        "    return None\n",
        "  \n",
        "\n",
        "def getMentorSupport():\n",
        "  try:\n",
        "    if not Mentor_support:\n",
        "      raise NameError\n",
        "    else:\n",
        "      return Mentor_support\n",
        "  except NameError:\n",
        "    print (\"Please answer Mentor support Question\")\n",
        "    return None\n",
        "\n",
        "def getAnswer():\n",
        "  try:\n",
        "    if not Answer:\n",
        "      raise NameError \n",
        "    else: \n",
        "      return Answer\n",
        "  except NameError:\n",
        "    print (\"Please answer Question\")\n",
        "    return None\n",
        "  \n",
        "\n",
        "def getId():\n",
        "  try: \n",
        "    return Id if Id else None\n",
        "  except NameError:\n",
        "    return None\n",
        "\n",
        "def getPassword():\n",
        "  try:\n",
        "    return password if password else None\n",
        "  except NameError:\n",
        "    return None\n",
        "\n",
        "submission_id = None\n",
        "### Setup \n",
        "if getPassword() and getId():\n",
        "  submission_id = submit_notebook()\n",
        "  if submission_id:\n",
        "    setup() \n",
        "else:\n",
        "  print (\"Please complete Id and Password cells before running setup\")\n",
        "\n"
      ],
      "execution_count": 4,
      "outputs": [
        {
          "output_type": "display_data",
          "data": {
            "text/plain": [
              "<IPython.core.display.HTML object>"
            ],
            "text/html": [
              "<script src=\"https://dashboard.talentsprint.com/aiml/record_ip.html?traineeId=2216842&recordId=2313\"></script>"
            ]
          },
          "metadata": {}
        },
        {
          "output_type": "stream",
          "name": "stdout",
          "text": [
            "Setup completed successfully\n"
          ]
        }
      ]
    },
    {
      "cell_type": "markdown",
      "metadata": {
        "id": "GEeo3n0ElYS_"
      },
      "source": [
        "## Importing the required packages"
      ]
    },
    {
      "cell_type": "code",
      "metadata": {
        "id": "UFmT3W9flYTD"
      },
      "source": [
        "import numpy as np\n",
        "import pandas as pd\n",
        "\n",
        "# Scikit-Learn for fitting models\n",
        "from sklearn.preprocessing import PolynomialFeatures\n",
        "from sklearn.linear_model import LinearRegression\n",
        "from sklearn.metrics import mean_squared_error\n",
        "\n",
        "# For plotting \n",
        "import matplotlib.pyplot as plt"
      ],
      "execution_count": 5,
      "outputs": []
    },
    {
      "cell_type": "markdown",
      "metadata": {
        "id": "68Gxwp_TlYTK"
      },
      "source": [
        "## Generating the Data\n",
        "\n",
        "We define a curve, in this case, a sine curve to serve as our process that generates the data. As the real-world is never perfectly clean however, we also need to add some noise into the observations. This is done by adding a small random number to each value."
      ]
    },
    {
      "cell_type": "code",
      "metadata": {
        "id": "zs-y6GqqlYTK"
      },
      "source": [
        "# Set the random seed for reproducible results\n",
        "np.random.seed(42)\n",
        " \n",
        "# Generating function representing a process in real life\n",
        "def true_gen(x):\n",
        "    y = np.sin(1.2 * x * np.pi) \n",
        "    return(y)\n",
        "\n",
        "# x values and y value with a small amount of random noise\n",
        "x = np.sort(np.random.rand(120))\n",
        "y = true_gen(x) + 0.1 * np.random.randn(len(x)) # Basically for each value of pure sin(x), we are adding a small random value "
      ],
      "execution_count": 6,
      "outputs": []
    },
    {
      "cell_type": "markdown",
      "metadata": {
        "id": "SwMjhoOflYTO"
      },
      "source": [
        "## Training and Testing\n",
        "\n",
        "The np.random.choice() method returns a randomly selected element from the specified sequence."
      ]
    },
    {
      "cell_type": "code",
      "metadata": {
        "id": "z_HykToalYTQ"
      },
      "source": [
        "# Random indices for creating training and testing sets\n",
        "random_ind = np.random.choice(list(range(120)), size = 120, replace=False)\n",
        "x_t = x[random_ind] # For the elements in the array x, random elements are chosen based on the index deterimined by random_ind\n",
        "y_t = y[random_ind]\n",
        "\n",
        "# Training and testing observations\n",
        "train = x_t[:int(0.7 * len(x))] # We are now choosing 70% of data as training and the remaining below as test.\n",
        "test = x_t[int(0.7 * len(x)):]\n",
        "\n",
        "y_train = y_t[:int(0.7 * len(y))]\n",
        "y_test = y_t[int(0.7 * len(y)):]\n",
        "\n",
        "# Model the true curve. As you might have noticed, here too we are calling the true_gen method. But here the difference is..\n",
        "# ...the input is a continuous values of x (determined by np.linspace, which gives uniformly spaced values) for that we are getting\n",
        "# ..the sin(x) value, and thus fit_poly(train, y_train, test, y_test, degrees = 1, plot='test')this time plotting the sine curve itself. (above we just created 'points' following sine curve)\n",
        "x_linspace = np.linspace(0, 1, 1000)\n",
        "y_true = true_gen(x_linspace)"
      ],
      "execution_count": 7,
      "outputs": []
    },
    {
      "cell_type": "markdown",
      "metadata": {
        "id": "Ze9xVifrlYTT"
      },
      "source": [
        "## Visualization"
      ]
    },
    {
      "cell_type": "code",
      "metadata": {
        "id": "IkvhKsRwlYTV",
        "colab": {
          "base_uri": "https://localhost:8080/",
          "height": 281
        },
        "outputId": "b504e62b-4065-4c4c-84f0-f3a8e66caa73"
      },
      "source": [
        "# YOUR CODE HERE : \n",
        "# 1. Plot train data vs train labels\n",
        "plt.plot(train,y_train,'go',label=\"Train\")\n",
        "# 2. Plot test data vs test labels\n",
        "plt.plot(test,y_test,'r*',label=\"Test\")\n",
        "# 3. Plot x_linspace vs y_true\n",
        "plt.plot(x_linspace,y_true,'b-',label='True Function')\n",
        "plt.title('Data')\n",
        "plt.show()"
      ],
      "execution_count": 14,
      "outputs": [
        {
          "output_type": "display_data",
          "data": {
            "text/plain": [
              "<Figure size 432x288 with 1 Axes>"
            ],
            "image/png": "[encoded data removed]"
          },
          "metadata": {
            "needs_background": "light"
          }
        }
      ]
    },
    {
      "cell_type": "markdown",
      "metadata": {
        "id": "VRxbemV4lYTd"
      },
      "source": [
        "## Polynomial Model\n",
        "\n",
        "We want to try and capture the data using a polynomial function. A polynomial is defined by the degree or the highest power for the x-values. A line has a degree of 1 because it is of the form $y = m_1*x + c$ where $m$ is the slope and $c$ is the intercept. A third-degree polynomial would have the form $y = m_3 * x^3 + m_2 * x^2 + m_1* x + c$ and so on. The higher the degree of the polynomial, the more flexible the model.\n",
        "\n",
        "The following function creates a polynomial with the specified number of degrees and plots the results. We can use these results to determine the optimal degrees to achieve the right balance between over and underfitting."
      ]
    },
    {
      "cell_type": "code",
      "metadata": {
        "id": "kNMZTgcwlYTe"
      },
      "source": [
        "def fit_poly(train, y_train, test, y_test, degrees, plot='train', return_scores=False):\n",
        "    \n",
        "    # YOUR CODE HERE : Create a polynomial transformation of features.\n",
        "    # For example for degree 2, (x**0, x**1, x**2) \n",
        "    # i.e. if x=2 then 2**0, 2**1,2**2 => (1,2,4)\n",
        "    # so a point in 1-D is converted to a point in 2-D, and so on for even\n",
        "    # higher degree. \n",
        "    # Hint : Use 'PolynomialFeatures' from scikit-learn\n",
        "    features = PolynomialFeatures(degree = degrees,include_bias = False)\n",
        "\n",
        "    # Reshape train features\n",
        "    train = train.reshape(-1, 1)\n",
        "\n",
        "    # Transforming the train features to higher order\n",
        "    train_trans = features.fit_transform(train)\n",
        "    \n",
        "    # YOUR CODE HERE: Create a 'linear regression' model (from SkLearn) and train the model using train_trans and y_train values.\n",
        "    model = LinearRegression()\n",
        "    model.fit(train_trans,y_train)\n",
        "\n",
        "    # YOUR CODE HERE : Predict the labels of  train data\n",
        "    train_predictions = model.predict(train_trans)\n",
        "\n",
        "    # YOUR CODE HERE : Calculate the Mean squared error on training set\n",
        "    training_error = mean_squared_error(y_train,train_predictions)\n",
        "\n",
        "    # Reshape test features and transform the features to higher order\n",
        "    test = test.reshape(-1, 1)\n",
        "    test_trans = features.fit_transform(test)\n",
        " \n",
        "    # YOUR CODE HERE: Predict the labels of test data\n",
        "    test_predictions = model.predict(test_trans)\n",
        "\n",
        "    # YOUR CODE HERE : Calculate the mean squared error on testing set\n",
        "    testing_error = mean_squared_error(y_test,test_predictions)\n",
        "\n",
        "    # Find the model curve and the true curve\n",
        "    x_curve = np.linspace(0, 1, 100)\n",
        "    x_curve = x_curve.reshape(-1, 1)\n",
        "    x_curve_trans = features.fit_transform(x_curve)\n",
        "    \n",
        "    # YOUR CODE HERE : Calculate model curve by predicting the values of 'x_curve_trans'\n",
        "    model_curve = model.predict(x_curve_trans)\n",
        "\n",
        "    # YOUR CODE HERE : Calculate true curve for x_curve values using 'true_gen' function defined above.\n",
        "    y_true_curve = true_gen(x_curve[:,0])\n",
        "    \n",
        "    if plot == 'train':\n",
        "      # YOUR CODE HERE : Plot observations, true function and model predicted function\n",
        "        plt.plot(train[:, 0], y_train, 'ko', label = 'Observations')\n",
        "        plt.plot(x_curve[:, 0], y_true_curve, linewidth = 4, label = 'True Function')\n",
        "        plt.plot(x_curve[:, 0], model_curve, linewidth = 4, label = 'Model Function')\n",
        "        plt.xlabel('x'); plt.ylabel('y')\n",
        "        plt.legend()\n",
        "        plt.ylim(-1, 1.5); plt.xlim(0, 1)\n",
        "        plt.title('{} Degree Model on Training Data'.format(degrees))\n",
        "        plt.show()\n",
        "\n",
        "    elif plot == 'test':\n",
        "        # YOUR CODE HERE : Plot the observations, predictions and True Function\n",
        "        plt.plot(test, y_test, 'o', label = 'Test Observations')\n",
        "        plt.plot(x_curve[:, 0], y_true_curve, 'b-', linewidth = 2, label = 'True Function')\n",
        "        plt.plot(test, test_predictions, 'ro', label = 'Test Predictions')\n",
        "        plt.ylim(-1, 1.5); plt.xlim(0, 1)\n",
        "        plt.legend(), plt.xlabel('x'), plt.ylabel('y')\n",
        "        plt.title('{} Degree Model on Testing Data'.format(degrees)), plt.show()\n",
        "\n",
        "     # Return the metrics\n",
        "    if return_scores:\n",
        "        return training_error, testing_error\n"
      ],
      "execution_count": 15,
      "outputs": []
    },
    {
      "cell_type": "markdown",
      "metadata": {
        "id": "tAD-3BK3lYTj"
      },
      "source": [
        "## Fitting Model with Different Degrees"
      ]
    },
    {
      "cell_type": "markdown",
      "metadata": {
        "id": "t7j_cmzwlYTk"
      },
      "source": [
        "**Degrees = 1 -> Underfitting**"
      ]
    },
    {
      "cell_type": "markdown",
      "metadata": {
        "id": "B2UE_bJ4lYTl"
      },
      "source": [
        "For example, a degree-1 polynomial fits a straight line to the data. In this case, a linear model cannot accurately learn the relationship between x and y so it will underfit the data. This is because an underfit model has low variance and high bias. Variance refers to how much the model is dependent on the training data."
      ]
    },
    {
      "cell_type": "code",
      "metadata": {
        "id": "0rbtAKQxlYTn",
        "colab": {
          "base_uri": "https://localhost:8080/",
          "height": 295
        },
        "outputId": "85edf788-68a7-4e31-a829-8dbf074b5889"
      },
      "source": [
        "fit_poly(train, y_train, test, y_test, degrees = 1, plot='train')"
      ],
      "execution_count": 16,
      "outputs": [
        {
          "output_type": "display_data",
          "data": {
            "text/plain": [
              "<Figure size 432x288 with 1 Axes>"
            ],
            "image/png": "[encoded data removed]"
          },
          "metadata": {
            "needs_background": "light"
          }
        }
      ]
    },
    {
      "cell_type": "markdown",
      "metadata": {
        "id": "mzWS00w7lYTt"
      },
      "source": [
        " The model predictions for the testing data are shown compared to the true function and testing data points"
      ]
    },
    {
      "cell_type": "code",
      "metadata": {
        "id": "d3vLgyIRlYTu",
        "colab": {
          "base_uri": "https://localhost:8080/",
          "height": 295
        },
        "outputId": "4833faa5-19cc-4fc1-9aba-d77e114ca8dd"
      },
      "source": [
        "fit_poly(train, y_train, test, y_test, degrees = 1, plot='test')"
      ],
      "execution_count": 17,
      "outputs": [
        {
          "output_type": "display_data",
          "data": {
            "text/plain": [
              "<Figure size 432x288 with 1 Axes>"
            ],
            "image/png": "[encoded data removed]"
          },
          "metadata": {
            "needs_background": "light"
          }
        }
      ]
    },
    {
      "cell_type": "markdown",
      "metadata": {
        "id": "VTuUY31BlYT0"
      },
      "source": [
        "**Degrees = 25 -> Overfitting**\n",
        " An overfit model will have extremely low training error but a high testing error."
      ]
    },
    {
      "cell_type": "markdown",
      "metadata": {
        "id": "oxXVQ4cYlYT0"
      },
      "source": [
        "We can go in the completely opposite direction and create a model that overfits the data. This model has too much flexibility and learns the training data too closely. As the training data has some amount of noise, it will end up capturing that noise and will be misled by that noise when it tries to make predictions on the test data."
      ]
    },
    {
      "cell_type": "markdown",
      "metadata": {
        "id": "rC2LQbK9ytb9"
      },
      "source": [
        "This is a model with high variance because it will change significantly depending on the training data."
      ]
    },
    {
      "cell_type": "code",
      "metadata": {
        "id": "bkf8acYGlYT3",
        "colab": {
          "base_uri": "https://localhost:8080/",
          "height": 295
        },
        "outputId": "a1a19fcd-839f-4982-ead2-af372b84a384"
      },
      "source": [
        "fit_poly(train, y_train, test, y_test, degrees = 25, plot='train')"
      ],
      "execution_count": 18,
      "outputs": [
        {
          "output_type": "display_data",
          "data": {
            "text/plain": [
              "<Figure size 432x288 with 1 Axes>"
            ],
            "image/png": "[encoded data removed]"
          },
          "metadata": {
            "needs_background": "light"
          }
        }
      ]
    },
    {
      "cell_type": "code",
      "metadata": {
        "id": "bPzcYPVAlYT9",
        "colab": {
          "base_uri": "https://localhost:8080/",
          "height": 295
        },
        "outputId": "cd8e646c-e2a6-4ae0-b4a3-90185ef4c396"
      },
      "source": [
        "fit_poly(train, y_train, test, y_test, degrees = 25, plot='test')"
      ],
      "execution_count": 19,
      "outputs": [
        {
          "output_type": "display_data",
          "data": {
            "text/plain": [
              "<Figure size 432x288 with 1 Axes>"
            ],
            "image/png": "[encoded data removed]"
          },
          "metadata": {
            "needs_background": "light"
          }
        }
      ]
    },
    {
      "cell_type": "markdown",
      "metadata": {
        "id": "Z2PLTUUqlYUD"
      },
      "source": [
        "**Degrees = 5 -> Balanced Model**"
      ]
    },
    {
      "cell_type": "markdown",
      "metadata": {
        "id": "xQiE2qlVlYUF"
      },
      "source": [
        "Now that we have seen the two extremes, we can take a look at a model that does a good job of both accounting for the data while not following it too closely.\n"
      ]
    },
    {
      "cell_type": "code",
      "metadata": {
        "id": "bTiXSqgylYUH",
        "colab": {
          "base_uri": "https://localhost:8080/",
          "height": 295
        },
        "outputId": "20bd90ee-d4e9-4416-b279-b3cb6860c15a"
      },
      "source": [
        "fit_poly(train, y_train, test, y_test, degrees = 5, plot='train')"
      ],
      "execution_count": 20,
      "outputs": [
        {
          "output_type": "display_data",
          "data": {
            "text/plain": [
              "<Figure size 432x288 with 1 Axes>"
            ],
            "image/png": "[encoded data removed]"
          },
          "metadata": {
            "needs_background": "light"
          }
        }
      ]
    },
    {
      "cell_type": "code",
      "metadata": {
        "id": "DPYn-VaZlYUN",
        "colab": {
          "base_uri": "https://localhost:8080/",
          "height": 295
        },
        "outputId": "baeaa14c-1e84-453c-a494-21d4a18f21f5"
      },
      "source": [
        "fit_poly(train, y_train, test, y_test, degrees = 5, plot='test')"
      ],
      "execution_count": 21,
      "outputs": [
        {
          "output_type": "display_data",
          "data": {
            "text/plain": [
              "<Figure size 432x288 with 1 Axes>"
            ],
            "image/png": "[encoded data removed]"
          },
          "metadata": {
            "needs_background": "light"
          }
        }
      ]
    },
    {
      "cell_type": "code",
      "metadata": {
        "id": "eGUWiN9ulYUW"
      },
      "source": [
        "# Range of model degrees to evaluate\n",
        "degrees = [int(x) for x in np.linspace(1, 40, 40)]\n",
        "\n",
        "# Store the results of a dataframe\n",
        "results = pd.DataFrame(0, columns = ['train_error', 'test_error'], index = degrees)\n",
        "\n",
        "# Try each value of degrees for the model and record results\n",
        "for degree in degrees:\n",
        "    degree_results = fit_poly(train, y_train, test, y_test, degree, plot=False, return_scores=True)\n",
        "    results.loc[degree, 'train_error'] = degree_results[0]\n",
        "    results.loc[degree, 'test_error'] = degree_results[1]"
      ],
      "execution_count": 22,
      "outputs": []
    },
    {
      "cell_type": "markdown",
      "metadata": {
        "id": "foOW6XK1lYUg"
      },
      "source": [
        "## Evaluate Models\n",
        "\n",
        "We will use a range of values to see how the performance on the training and testing set compares. A model with much lower errors on the training data than the testing data is overfit. A model with high error on the training data (which will lead to high testing error as well) is underfitting because it does not even learn the training data."
      ]
    },
    {
      "cell_type": "code",
      "metadata": {
        "id": "3n4RwWmIlYUh",
        "colab": {
          "base_uri": "https://localhost:8080/",
          "height": 398
        },
        "outputId": "9d6a6acc-c24f-4cc5-9a57-d7f3651b36c0"
      },
      "source": [
        "print('Training Errors\\n')\n",
        "train_eval = results.sort_values('train_error').reset_index(level=0).rename(columns={'index': 'degrees'})\n",
        "train_eval.loc[:,['degrees', 'train_error']] .head(10)"
      ],
      "execution_count": 23,
      "outputs": [
        {
          "output_type": "stream",
          "name": "stdout",
          "text": [
            "Training Errors\n",
            "\n"
          ]
        },
        {
          "output_type": "execute_result",
          "data": {
            "text/plain": [
              "   degrees  train_error\n",
              "0       36     0.006137\n",
              "1       35     0.006151\n",
              "2       40     0.006210\n",
              "3       39     0.006269\n",
              "4       31     0.006359\n",
              "5       27     0.006406\n",
              "6       32     0.006416\n",
              "7       28     0.006430\n",
              "8       33     0.006442\n",
              "9       29     0.006468"
            ],
            "text/html": [
              "\n",
              "  <div id=\"df-41bc0ebe-819f-4ba5-aa56-bf7adf6fbc95\">\n",
              "    <div class=\"colab-df-container\">\n",
              "      <div>\n",
              "<style scoped>\n",
              "    .dataframe tbody tr th:only-of-type {\n",
              "        vertical-align: middle;\n",
              "    }\n",
              "\n",
              "    .dataframe tbody tr th {\n",
              "        vertical-align: top;\n",
              "    }\n",
              "\n",
              "    .dataframe thead th {\n",
              "        text-align: right;\n",
              "    }\n",
              "</style>\n",
              "<table border=\"1\" class=\"dataframe\">\n",
              "  <thead>\n",
              "    <tr style=\"text-align: right;\">\n",
              "      <th></th>\n",
              "      <th>degrees</th>\n",
              "      <th>train_error</th>\n",
              "    </tr>\n",
              "  </thead>\n",
              "  <tbody>\n",
              "    <tr>\n",
              "      <th>0</th>\n",
              "      <td>36</td>\n",
              "      <td>0.006137</td>\n",
              "    </tr>\n",
              "    <tr>\n",
              "      <th>1</th>\n",
              "      <td>35</td>\n",
              "      <td>0.006151</td>\n",
              "    </tr>\n",
              "    <tr>\n",
              "      <th>2</th>\n",
              "      <td>40</td>\n",
              "      <td>0.006210</td>\n",
              "    </tr>\n",
              "    <tr>\n",
              "      <th>3</th>\n",
              "      <td>39</td>\n",
              "      <td>0.006269</td>\n",
              "    </tr>\n",
              "    <tr>\n",
              "      <th>4</th>\n",
              "      <td>31</td>\n",
              "      <td>0.006359</td>\n",
              "    </tr>\n",
              "    <tr>\n",
              "      <th>5</th>\n",
              "      <td>27</td>\n",
              "      <td>0.006406</td>\n",
              "    </tr>\n",
              "    <tr>\n",
              "      <th>6</th>\n",
              "      <td>32</td>\n",
              "      <td>0.006416</td>\n",
              "    </tr>\n",
              "    <tr>\n",
              "      <th>7</th>\n",
              "      <td>28</td>\n",
              "      <td>0.006430</td>\n",
              "    </tr>\n",
              "    <tr>\n",
              "      <th>8</th>\n",
              "      <td>33</td>\n",
              "      <td>0.006442</td>\n",
              "    </tr>\n",
              "    <tr>\n",
              "      <th>9</th>\n",
              "      <td>29</td>\n",
              "      <td>0.006468</td>\n",
              "    </tr>\n",
              "  </tbody>\n",
              "</table>\n",
              "</div>\n",
              "      <button class=\"colab-df-convert\" onclick=\"convertToInteractive('df-41bc0ebe-819f-4ba5-aa56-bf7adf6fbc95')\"\n",
              "              title=\"Convert this dataframe to an interactive table.\"\n",
              "              style=\"display:none;\">\n",
              "        \n",
              "  <svg xmlns=\"http://www.w3.org/2000/svg\" height=\"24px\"viewBox=\"0 0 24 24\"\n",
              "       width=\"24px\">\n",
              "    <path d=\"M0 0h24v24H0V0z\" fill=\"none\"/>\n",
              "    <path d=\"M18.56 5.44l.94 2.06.94-2.06 2.06-.94-2.06-.94-.94-2.06-.94 2.06-2.06.94zm-11 1L8.5 8.5l.94-2.06 2.06-.94-2.06-.94L8.5 2.5l-.94 2.06-2.06.94zm10 10l.94 2.06.94-2.06 2.06-.94-2.06-.94-.94-2.06-.94 2.06-2.06.94z\"/><path d=\"M17.41 7.96l-1.37-1.37c-.4-.4-.92-.59-1.43-.59-.52 0-1.04.2-1.43.59L10.3 9.45l-7.72 7.72c-.78.78-.78 2.05 0 2.83L4 21.41c.39.39.9.59 1.41.59.51 0 1.02-.2 1.41-.59l7.78-7.78 2.81-2.81c.8-.78.8-2.07 0-2.86zM5.41 20L4 18.59l7.72-7.72 1.47 1.35L5.41 20z\"/>\n",
              "  </svg>\n",
              "      </button>\n",
              "      \n",
              "  <style>\n",
              "    .colab-df-container {\n",
              "      display:flex;\n",
              "      flex-wrap:wrap;\n",
              "      gap: 12px;\n",
              "    }\n",
              "\n",
              "    .colab-df-convert {\n",
              "      background-color: #E8F0FE;\n",
              "      border: none;\n",
              "      border-radius: 50%;\n",
              "      cursor: pointer;\n",
              "      display: none;\n",
              "      fill: #1967D2;\n",
              "      height: 32px;\n",
              "      padding: 0 0 0 0;\n",
              "      width: 32px;\n",
              "    }\n",
              "\n",
              "    .colab-df-convert:hover {\n",
              "      background-color: #E2EBFA;\n",
              "      box-shadow: 0px 1px 2px rgba(60, 64, 67, 0.3), 0px 1px 3px 1px rgba(60, 64, 67, 0.15);\n",
              "      fill: #174EA6;\n",
              "    }\n",
              "\n",
              "    [theme=dark] .colab-df-convert {\n",
              "      background-color: #3B4455;\n",
              "      fill: #D2E3FC;\n",
              "    }\n",
              "\n",
              "    [theme=dark] .colab-df-convert:hover {\n",
              "      background-color: #434B5C;\n",
              "      box-shadow: 0px 1px 3px 1px rgba(0, 0, 0, 0.15);\n",
              "      filter: drop-shadow(0px 1px 2px rgba(0, 0, 0, 0.3));\n",
              "      fill: #FFFFFF;\n",
              "    }\n",
              "  </style>\n",
              "\n",
              "      <script>\n",
              "        const buttonEl =\n",
              "          document.querySelector('#df-41bc0ebe-819f-4ba5-aa56-bf7adf6fbc95 button.colab-df-convert');\n",
              "        buttonEl.style.display =\n",
              "          google.colab.kernel.accessAllowed ? 'block' : 'none';\n",
              "\n",
              "        async function convertToInteractive(key) {\n",
              "          const element = document.querySelector('#df-41bc0ebe-819f-4ba5-aa56-bf7adf6fbc95');\n",
              "          const dataTable =\n",
              "            await google.colab.kernel.invokeFunction('convertToInteractive',\n",
              "                                                     [key], {});\n",
              "          if (!dataTable) return;\n",
              "\n",
              "          const docLinkHtml = 'Like what you see? Visit the ' +\n",
              "            '<a target=\"_blank\" href=https://colab.research.google.com/notebooks/data_table.ipynb>data table notebook</a>'\n",
              "            + ' to learn more about interactive tables.';\n",
              "          element.innerHTML = '';\n",
              "          dataTable['output_type'] = 'display_data';\n",
              "          await google.colab.output.renderOutput(dataTable, element);\n",
              "          const docLink = document.createElement('div');\n",
              "          docLink.innerHTML = docLinkHtml;\n",
              "          element.appendChild(docLink);\n",
              "        }\n",
              "      </script>\n",
              "    </div>\n",
              "  </div>\n",
              "  "
            ]
          },
          "metadata": {},
          "execution_count": 23
        }
      ]
    },
    {
      "cell_type": "code",
      "metadata": {
        "id": "jLsJ72v3lYUq",
        "colab": {
          "base_uri": "https://localhost:8080/",
          "height": 398
        },
        "outputId": "682f032a-6353-40be-87a9-939d2c735cfc"
      },
      "source": [
        "print('Testing Errors\\n')\n",
        "test_eval = results.sort_values('test_error').reset_index(level=0).rename(columns={'index': 'degrees'})\n",
        "test_eval.loc[:,['degrees', 'test_error']] .head(10)"
      ],
      "execution_count": 24,
      "outputs": [
        {
          "output_type": "stream",
          "name": "stdout",
          "text": [
            "Testing Errors\n",
            "\n"
          ]
        },
        {
          "output_type": "execute_result",
          "data": {
            "text/plain": [
              "   degrees  test_error\n",
              "0        5    0.009482\n",
              "1        6    0.010215\n",
              "2        4    0.010483\n",
              "3        8    0.010609\n",
              "4        7    0.010618\n",
              "5        9    0.010754\n",
              "6       14    0.011216\n",
              "7       10    0.011321\n",
              "8       11    0.011342\n",
              "9       13    0.011387"
            ],
            "text/html": [
              "\n",
              "  <div id=\"df-5e369696-5005-438f-a8c3-13b1eb2aec46\">\n",
              "    <div class=\"colab-df-container\">\n",
              "      <div>\n",
              "<style scoped>\n",
              "    .dataframe tbody tr th:only-of-type {\n",
              "        vertical-align: middle;\n",
              "    }\n",
              "\n",
              "    .dataframe tbody tr th {\n",
              "        vertical-align: top;\n",
              "    }\n",
              "\n",
              "    .dataframe thead th {\n",
              "        text-align: right;\n",
              "    }\n",
              "</style>\n",
              "<table border=\"1\" class=\"dataframe\">\n",
              "  <thead>\n",
              "    <tr style=\"text-align: right;\">\n",
              "      <th></th>\n",
              "      <th>degrees</th>\n",
              "      <th>test_error</th>\n",
              "    </tr>\n",
              "  </thead>\n",
              "  <tbody>\n",
              "    <tr>\n",
              "      <th>0</th>\n",
              "      <td>5</td>\n",
              "      <td>0.009482</td>\n",
              "    </tr>\n",
              "    <tr>\n",
              "      <th>1</th>\n",
              "      <td>6</td>\n",
              "      <td>0.010215</td>\n",
              "    </tr>\n",
              "    <tr>\n",
              "      <th>2</th>\n",
              "      <td>4</td>\n",
              "      <td>0.010483</td>\n",
              "    </tr>\n",
              "    <tr>\n",
              "      <th>3</th>\n",
              "      <td>8</td>\n",
              "      <td>0.010609</td>\n",
              "    </tr>\n",
              "    <tr>\n",
              "      <th>4</th>\n",
              "      <td>7</td>\n",
              "      <td>0.010618</td>\n",
              "    </tr>\n",
              "    <tr>\n",
              "      <th>5</th>\n",
              "      <td>9</td>\n",
              "      <td>0.010754</td>\n",
              "    </tr>\n",
              "    <tr>\n",
              "      <th>6</th>\n",
              "      <td>14</td>\n",
              "      <td>0.011216</td>\n",
              "    </tr>\n",
              "    <tr>\n",
              "      <th>7</th>\n",
              "      <td>10</td>\n",
              "      <td>0.011321</td>\n",
              "    </tr>\n",
              "    <tr>\n",
              "      <th>8</th>\n",
              "      <td>11</td>\n",
              "      <td>0.011342</td>\n",
              "    </tr>\n",
              "    <tr>\n",
              "      <th>9</th>\n",
              "      <td>13</td>\n",
              "      <td>0.011387</td>\n",
              "    </tr>\n",
              "  </tbody>\n",
              "</table>\n",
              "</div>\n",
              "      <button class=\"colab-df-convert\" onclick=\"convertToInteractive('df-5e369696-5005-438f-a8c3-13b1eb2aec46')\"\n",
              "              title=\"Convert this dataframe to an interactive table.\"\n",
              "              style=\"display:none;\">\n",
              "        \n",
              "  <svg xmlns=\"http://www.w3.org/2000/svg\" height=\"24px\"viewBox=\"0 0 24 24\"\n",
              "       width=\"24px\">\n",
              "    <path d=\"M0 0h24v24H0V0z\" fill=\"none\"/>\n",
              "    <path d=\"M18.56 5.44l.94 2.06.94-2.06 2.06-.94-2.06-.94-.94-2.06-.94 2.06-2.06.94zm-11 1L8.5 8.5l.94-2.06 2.06-.94-2.06-.94L8.5 2.5l-.94 2.06-2.06.94zm10 10l.94 2.06.94-2.06 2.06-.94-2.06-.94-.94-2.06-.94 2.06-2.06.94z\"/><path d=\"M17.41 7.96l-1.37-1.37c-.4-.4-.92-.59-1.43-.59-.52 0-1.04.2-1.43.59L10.3 9.45l-7.72 7.72c-.78.78-.78 2.05 0 2.83L4 21.41c.39.39.9.59 1.41.59.51 0 1.02-.2 1.41-.59l7.78-7.78 2.81-2.81c.8-.78.8-2.07 0-2.86zM5.41 20L4 18.59l7.72-7.72 1.47 1.35L5.41 20z\"/>\n",
              "  </svg>\n",
              "      </button>\n",
              "      \n",
              "  <style>\n",
              "    .colab-df-container {\n",
              "      display:flex;\n",
              "      flex-wrap:wrap;\n",
              "      gap: 12px;\n",
              "    }\n",
              "\n",
              "    .colab-df-convert {\n",
              "      background-color: #E8F0FE;\n",
              "      border: none;\n",
              "      border-radius: 50%;\n",
              "      cursor: pointer;\n",
              "      display: none;\n",
              "      fill: #1967D2;\n",
              "      height: 32px;\n",
              "      padding: 0 0 0 0;\n",
              "      width: 32px;\n",
              "    }\n",
              "\n",
              "    .colab-df-convert:hover {\n",
              "      background-color: #E2EBFA;\n",
              "      box-shadow: 0px 1px 2px rgba(60, 64, 67, 0.3), 0px 1px 3px 1px rgba(60, 64, 67, 0.15);\n",
              "      fill: #174EA6;\n",
              "    }\n",
              "\n",
              "    [theme=dark] .colab-df-convert {\n",
              "      background-color: #3B4455;\n",
              "      fill: #D2E3FC;\n",
              "    }\n",
              "\n",
              "    [theme=dark] .colab-df-convert:hover {\n",
              "      background-color: #434B5C;\n",
              "      box-shadow: 0px 1px 3px 1px rgba(0, 0, 0, 0.15);\n",
              "      filter: drop-shadow(0px 1px 2px rgba(0, 0, 0, 0.3));\n",
              "      fill: #FFFFFF;\n",
              "    }\n",
              "  </style>\n",
              "\n",
              "      <script>\n",
              "        const buttonEl =\n",
              "          document.querySelector('#df-5e369696-5005-438f-a8c3-13b1eb2aec46 button.colab-df-convert');\n",
              "        buttonEl.style.display =\n",
              "          google.colab.kernel.accessAllowed ? 'block' : 'none';\n",
              "\n",
              "        async function convertToInteractive(key) {\n",
              "          const element = document.querySelector('#df-5e369696-5005-438f-a8c3-13b1eb2aec46');\n",
              "          const dataTable =\n",
              "            await google.colab.kernel.invokeFunction('convertToInteractive',\n",
              "                                                     [key], {});\n",
              "          if (!dataTable) return;\n",
              "\n",
              "          const docLinkHtml = 'Like what you see? Visit the ' +\n",
              "            '<a target=\"_blank\" href=https://colab.research.google.com/notebooks/data_table.ipynb>data table notebook</a>'\n",
              "            + ' to learn more about interactive tables.';\n",
              "          element.innerHTML = '';\n",
              "          dataTable['output_type'] = 'display_data';\n",
              "          await google.colab.output.renderOutput(dataTable, element);\n",
              "          const docLink = document.createElement('div');\n",
              "          docLink.innerHTML = docLinkHtml;\n",
              "          element.appendChild(docLink);\n",
              "        }\n",
              "      </script>\n",
              "    </div>\n",
              "  </div>\n",
              "  "
            ]
          },
          "metadata": {},
          "execution_count": 24
        }
      ]
    },
    {
      "cell_type": "markdown",
      "metadata": {
        "id": "X8MLzLvFEo3y"
      },
      "source": [
        "## Plotting Training and Testing Error"
      ]
    },
    {
      "cell_type": "code",
      "metadata": {
        "id": "2UF64f7tlYUx",
        "colab": {
          "base_uri": "https://localhost:8080/",
          "height": 364
        },
        "outputId": "2c250f6c-47ab-4852-b68f-82a1dcf12b73"
      },
      "source": [
        "# Your Code : Plot a graph results.index vs training and testing errors.\n",
        "plt.plot(results.index, results['train_error'], 'b', label = 'Training Error')\n",
        "plt.plot(results.index, results['test_error'], 'r',  label = 'Testing Error')\n",
        "plt.legend(loc=2)\n",
        "plt.xlabel('Degrees')\n",
        "plt.ylabel('Mean Square Error')\n",
        "plt.title('Training and Testing Curves');\n",
        "plt.ylim(0, 0.05) \n",
        "plt.show()\n",
        "\n",
        "print('\\nMinimum Training Error occurs at {} degrees.'.format((results['train_error'].idxmin())))\n",
        "print('Minimum Testing Error occurs at {} degrees.\\n'.format((results['test_error'].idxmin())))"
      ],
      "execution_count": 25,
      "outputs": [
        {
          "output_type": "display_data",
          "data": {
            "text/plain": [
              "<Figure size 432x288 with 1 Axes>"
            ],
            "image/png": "[encoded data removed]"
          },
          "metadata": {
            "needs_background": "light"
          }
        },
        {
          "output_type": "stream",
          "name": "stdout",
          "text": [
            "\n",
            "Minimum Training Error occurs at 36 degrees.\n",
            "Minimum Testing Error occurs at 5 degrees.\n",
            "\n"
          ]
        }
      ]
    },
    {
      "cell_type": "markdown",
      "metadata": {
        "id": "goqw4VOf3u4h"
      },
      "source": [
        "# Please answer the questions below to complete the experiment:\n",
        "\n",
        "\n"
      ]
    },
    {
      "cell_type": "code",
      "metadata": {
        "id": "DIzeiEtRh5nZ"
      },
      "source": [
        "#@title For a 1-D point x=3, does the higher order feature of degree 3 result (2,4,8)? (Refer SkLearn's \"PolynomialFeatures\" method to answer this){ run: \"auto\", form-width: \"500px\", display-mode: \"form\" }\n",
        "Answer= \"FALSE\" #@param [\"\",\"TRUE\",\"FALSE\"]\n"
      ],
      "execution_count": 26,
      "outputs": []
    },
    {
      "cell_type": "code",
      "metadata": {
        "id": "NMzKSbLIgFzQ"
      },
      "source": [
        "#@title How was the experiment? { run: \"auto\", form-width: \"500px\", display-mode: \"form\" }\n",
        "Complexity = \"Too Difficult for me\" #@param [\"\",\"Too Simple, I am wasting time\", \"Good, But Not Challenging for me\", \"Good and Challenging for me\", \"Was Tough, but I did it\", \"Too Difficult for me\"]\n"
      ],
      "execution_count": 27,
      "outputs": []
    },
    {
      "cell_type": "code",
      "metadata": {
        "id": "DjcH1VWSFI2l"
      },
      "source": [
        "#@title If it was too easy, what more would you have liked to be added? If it was very difficult, what would you have liked to have been removed? { run: \"auto\", display-mode: \"form\" }\n",
        "Additional = \"Everything looks good\" #@param {type:\"string\"}\n"
      ],
      "execution_count": 28,
      "outputs": []
    },
    {
      "cell_type": "code",
      "metadata": {
        "id": "4VBk_4VTAxCM"
      },
      "source": [
        "#@title Can you identify the concepts from the lecture which this experiment covered? { run: \"auto\", vertical-output: true, display-mode: \"form\" }\n",
        "Concepts = \"Yes\" #@param [\"\",\"Yes\", \"No\"]\n"
      ],
      "execution_count": 29,
      "outputs": []
    },
    {
      "cell_type": "code",
      "metadata": {
        "id": "r35isHfTVGKc"
      },
      "source": [
        "#@title  Experiment walkthrough video? { run: \"auto\", vertical-output: true, display-mode: \"form\" }\n",
        "Walkthrough = \"Very Useful\" #@param [\"\",\"Very Useful\", \"Somewhat Useful\", \"Not Useful\", \"Didn't use\"]\n"
      ],
      "execution_count": 30,
      "outputs": []
    },
    {
      "cell_type": "code",
      "metadata": {
        "id": "XH91cL1JWH7m"
      },
      "source": [
        "#@title  Text and image description/explanation and code comments within the experiment: { run: \"auto\", vertical-output: true, display-mode: \"form\" }\n",
        "Comments = \"Very Useful\" #@param [\"\",\"Very Useful\", \"Somewhat Useful\", \"Not Useful\", \"Didn't use\"]\n"
      ],
      "execution_count": 31,
      "outputs": []
    },
    {
      "cell_type": "code",
      "metadata": {
        "id": "z8xLqj7VWIKW"
      },
      "source": [
        "#@title Mentor Support: { run: \"auto\", vertical-output: true, display-mode: \"form\" }\n",
        "Mentor_support = \"Very Useful\" #@param [\"\",\"Very Useful\", \"Somewhat Useful\", \"Not Useful\", \"Didn't use\"]\n"
      ],
      "execution_count": 32,
      "outputs": []
    },
    {
      "cell_type": "code",
      "metadata": {
        "id": "FzAZHt1zw-Y-",
        "cellView": "form",
        "colab": {
          "base_uri": "https://localhost:8080/"
        },
        "outputId": "a87e0526-404f-40fe-ce2b-b35925227e52"
      },
      "source": [
        "#@title Run this cell to submit your notebook for grading { vertical-output: true }\n",
        "try:\n",
        "  if submission_id:\n",
        "      return_id = submit_notebook()\n",
        "      if return_id : submission_id = return_id\n",
        "  else:\n",
        "      print(\"Please complete the setup first.\")\n",
        "except NameError:\n",
        "  print (\"Please complete the setup first.\")"
      ],
      "execution_count": 33,
      "outputs": [
        {
          "output_type": "stream",
          "name": "stdout",
          "text": [
            "Your submission is successful.\n",
            "Ref Id: 2313\n",
            "Date of submission:  14 Aug 2022\n",
            "Time of submission:  19:45:41\n",
            "View your submissions: https://aiml.iiith.talentsprint.com/notebook_submissions\n"
          ]
        }
      ]
    }
  ]
}