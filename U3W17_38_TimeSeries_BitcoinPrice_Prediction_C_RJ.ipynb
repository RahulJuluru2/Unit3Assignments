{
  "nbformat": 4,
  "nbformat_minor": 0,
  "metadata": {
    "colab": {
      "provenance": [],
      "collapsed_sections": [],
      "include_colab_link": true
    },
    "kernelspec": {
      "name": "python3",
      "display_name": "Python 3"
    }
  },
  "cells": [
    {
      "cell_type": "markdown",
      "metadata": {
        "id": "view-in-github",
        "colab_type": "text"
      },
      "source": [
        "<a href=\"https://colab.research.google.com/github/RahulJuluru2/unit3assignments/blob/main/U3W17_38_TimeSeries_BitcoinPrice_Prediction_C_RJ.ipynb\" target=\"_parent\"><img src=\"https://colab.research.google.com/assets/colab-badge.svg\" alt=\"Open In Colab\"/></a>"
      ]
    },
    {
      "cell_type": "markdown",
      "metadata": {
        "id": "Dq3WVvu7skLd"
      },
      "source": [
        "# Advanced Certification in AIML\n",
        "## A Program by IIIT-H and TalentSprint"
      ]
    },
    {
      "cell_type": "markdown",
      "metadata": {
        "id": "jFUjPQMAn_n3"
      },
      "source": [
        "### Learning Objectives"
      ]
    },
    {
      "cell_type": "markdown",
      "metadata": {
        "id": "0Xq1LLdMoDwa"
      },
      "source": [
        "At the end of the experiment you will be able to :\n",
        "\n",
        "- predict bitcoin price using Neural Network\n"
      ]
    },
    {
      "cell_type": "code",
      "metadata": {
        "id": "0kDzYJ_17eVC",
        "cellView": "form",
        "colab": {
          "base_uri": "https://localhost:8080/",
          "height": 502
        },
        "outputId": "aab2a5c0-b699-449c-c2c2-26f66332c833"
      },
      "source": [
        "#@title Experiment Explanation Video\n",
        "from IPython.display import HTML\n",
        "\n",
        "HTML(\"\"\"<video width=\"850\" height=\"480\" controls>\n",
        "  <source src=\"https://cdn.iiith.talentsprint.com/aiml/Experiment_related_data/Walkthrough/Bitcoin_Price_Prediction_Walkthrough.mp4\" type=\"video/mp4\">\n",
        "</video>\n",
        "\"\"\")"
      ],
      "execution_count": 1,
      "outputs": [
        {
          "output_type": "execute_result",
          "data": {
            "text/plain": [
              "<IPython.core.display.HTML object>"
            ],
            "text/html": [
              "<video width=\"850\" height=\"480\" controls>\n",
              "  <source src=\"https://cdn.iiith.talentsprint.com/aiml/Experiment_related_data/Walkthrough/Bitcoin_Price_Prediction_Walkthrough.mp4\" type=\"video/mp4\">\n",
              "</video>\n"
            ]
          },
          "metadata": {},
          "execution_count": 1
        }
      ]
    },
    {
      "cell_type": "markdown",
      "metadata": {
        "id": "GEO_Hwa77-8H"
      },
      "source": [
        "### Dataset"
      ]
    },
    {
      "cell_type": "markdown",
      "metadata": {
        "id": "DnBNowAkXGVL"
      },
      "source": [
        "### Description\n",
        "\n",
        "In this Dataset, Bitcoin USD values from 1st Jan, 2017 to 15th Nov, 2019 downloaded from yahoo finance having one day resolution. It can be used to check simple time-series forecasting models.\n",
        "\n",
        "This dataset contains 1049 rows and 7 features including Date,\tOpen,\tHigh,\tLow,\tClose,\tAdj Close and\tVolume\n",
        "\n",
        "\n"
      ]
    },
    {
      "cell_type": "markdown",
      "metadata": {
        "id": "ESAXYMuBjeWK"
      },
      "source": [
        "Stock price forecasting is one of the most challenging tasks in financial decision-making because stock prices are inherently noisy and non-stationary and have been observed to have a random-walk characteristic. Accurate stock price predictions can yield significant profits and therefore econometric and statistical approaches including linear/non-linear methods."
      ]
    },
    {
      "cell_type": "markdown",
      "metadata": {
        "id": "L0llVz2z8GLi"
      },
      "source": [
        "### Domain Information"
      ]
    },
    {
      "cell_type": "markdown",
      "metadata": {
        "id": "HG3h-09Pej-U"
      },
      "source": [
        "Time-series forecasting means predicting future values in time. Developing a forecasting model depends on the forecasting horizon. Very short-term forecasting would typically involve predicting the value at the next minute or hour, short-term forecasting has a horizon of days or weeks, long-term forecasting is done for months or a year or two, and we also have very-long term forecasting that could easily have a horizon of up to a few decades.\n",
        "\n",
        "Here, we will build a simple Deep Learning based very-short-term Time-series forecaster, that will predict the stock prices of Bitcoin."
      ]
    },
    {
      "cell_type": "markdown",
      "metadata": {
        "id": "ARcaLObv9Ex6"
      },
      "source": [
        "### Setup Steps"
      ]
    },
    {
      "cell_type": "code",
      "metadata": {
        "id": "-NYDLV5BpzpI"
      },
      "source": [
        "#@title Please enter your registration id to start: { run: \"auto\", display-mode: \"form\" }\n",
        "Id = \"2216842\" #@param {type:\"string\"}\n"
      ],
      "execution_count": 2,
      "outputs": []
    },
    {
      "cell_type": "code",
      "metadata": {
        "id": "QgqisORFpzpQ"
      },
      "source": [
        "#@title Please enter your password (normally your phone number) to continue: { run: \"auto\", display-mode: \"form\" }\n",
        "password = \"9959488784\" #@param {type:\"string\"}\n"
      ],
      "execution_count": 3,
      "outputs": []
    },
    {
      "cell_type": "code",
      "metadata": {
        "id": "-ChfY8GTH3SB",
        "cellView": "form",
        "colab": {
          "base_uri": "https://localhost:8080/",
          "height": 34
        },
        "outputId": "17a6b7d9-d493-4739-804f-58359fffb406"
      },
      "source": [
        "#@title Run this cell to complete the setup for this Notebook\n",
        "from IPython import get_ipython\n",
        "import warnings\n",
        "warnings.filterwarnings(\"ignore\")\n",
        "\n",
        "ipython = get_ipython()\n",
        "  \n",
        "notebook= \"U3W17_38_TimeSeries_BitcoinPrice_Prediction_C\" #name of the notebook\n",
        "def setup():\n",
        "    ipython.magic(\"sx wget https://cdn.iiith.talentsprint.com/aiml/Experiment_related_data/bitcoin.csv\")\n",
        "    from IPython.display import HTML, display\n",
        "    display(HTML('<script src=\"https://dashboard.talentsprint.com/aiml/record_ip.html?traineeId={0}&recordId={1}\"></script>'.format(getId(),submission_id)))\n",
        "    print (\"Setup completed successfully\")\n",
        "    return\n",
        "\n",
        "def submit_notebook():\n",
        "    ipython.magic(\"notebook -e \"+ notebook + \".ipynb\")\n",
        "    \n",
        "    import requests, json, base64, datetime\n",
        "\n",
        "    url = \"https://dashboard.talentsprint.com/xp/app/save_notebook_attempts\"\n",
        "    if not submission_id:\n",
        "      data = {\"id\" : getId(), \"notebook\" : notebook, \"mobile\" : getPassword()}\n",
        "      r = requests.post(url, data = data)\n",
        "      r = json.loads(r.text)\n",
        "\n",
        "      if r[\"status\"] == \"Success\":\n",
        "          return r[\"record_id\"]\n",
        "      elif \"err\" in r:        \n",
        "        print(r[\"err\"])\n",
        "        return None        \n",
        "      else:\n",
        "        print (\"Something is wrong, the notebook will not be submitted for grading\")\n",
        "        return None\n",
        "    \n",
        "    elif getAnswer() and getComplexity() and getAdditional() and getConcepts() and getWalkthrough() and getComments() and getMentorSupport():\n",
        "      f = open(notebook + \".ipynb\", \"rb\")\n",
        "      file_hash = base64.b64encode(f.read())\n",
        "\n",
        "      data = {\"complexity\" : Complexity, \"additional\" :Additional, \n",
        "              \"concepts\" : Concepts, \"record_id\" : submission_id, \n",
        "              \"answer\" : Answer, \"id\" : Id, \"file_hash\" : file_hash,\n",
        "              \"notebook\" : notebook, \"feedback_walkthrough\":Walkthrough ,\n",
        "              \"feedback_experiments_input\" : Comments,\n",
        "              \"feedback_mentor_support\": Mentor_support}\n",
        "\n",
        "      r = requests.post(url, data = data)\n",
        "      r = json.loads(r.text)\n",
        "      if \"err\" in r:        \n",
        "        print(r[\"err\"])\n",
        "        return None   \n",
        "      else:\n",
        "        print(\"Your submission is successful.\")\n",
        "        print(\"Ref Id:\", submission_id)\n",
        "        print(\"Date of submission: \", r[\"date\"])\n",
        "        print(\"Time of submission: \", r[\"time\"])\n",
        "        print(\"View your submissions: https://aiml.iiith.talentsprint.com/notebook_submissions\")\n",
        "        #print(\"For any queries/discrepancies, please connect with mentors through the chat icon in LMS dashboard.\")\n",
        "        return submission_id\n",
        "    else: submission_id\n",
        "    \n",
        "\n",
        "def getAdditional():\n",
        "  try:\n",
        "    if not Additional: \n",
        "      raise NameError\n",
        "    else:\n",
        "      return Additional  \n",
        "  except NameError:\n",
        "    print (\"Please answer Additional Question\")\n",
        "    return None\n",
        "\n",
        "def getComplexity():\n",
        "  try:\n",
        "    if not Complexity:\n",
        "      raise NameError\n",
        "    else:\n",
        "      return Complexity\n",
        "  except NameError:\n",
        "    print (\"Please answer Complexity Question\")\n",
        "    return None\n",
        "  \n",
        "def getConcepts():\n",
        "  try:\n",
        "    if not Concepts:\n",
        "      raise NameError\n",
        "    else:\n",
        "      return Concepts\n",
        "  except NameError:\n",
        "    print (\"Please answer Concepts Question\")\n",
        "    return None\n",
        "  \n",
        "  \n",
        "def getWalkthrough():\n",
        "  try:\n",
        "    if not Walkthrough:\n",
        "      raise NameError\n",
        "    else:\n",
        "      return Walkthrough\n",
        "  except NameError:\n",
        "    print (\"Please answer Walkthrough Question\")\n",
        "    return None\n",
        "  \n",
        "def getComments():\n",
        "  try:\n",
        "    if not Comments:\n",
        "      raise NameError\n",
        "    else:\n",
        "      return Comments\n",
        "  except NameError:\n",
        "    print (\"Please answer Comments Question\")\n",
        "    return None\n",
        "  \n",
        "\n",
        "def getMentorSupport():\n",
        "  try:\n",
        "    if not Mentor_support:\n",
        "      raise NameError\n",
        "    else:\n",
        "      return Mentor_support\n",
        "  except NameError:\n",
        "    print (\"Please answer Mentor support Question\")\n",
        "    return None\n",
        "\n",
        "def getAnswer():\n",
        "  try:\n",
        "    if not Answer:\n",
        "      raise NameError \n",
        "    else: \n",
        "      return Answer\n",
        "  except NameError:\n",
        "    print (\"Please answer Question\")\n",
        "    return None\n",
        "  \n",
        "\n",
        "def getId():\n",
        "  try: \n",
        "    return Id if Id else None\n",
        "  except NameError:\n",
        "    return None\n",
        "\n",
        "def getPassword():\n",
        "  try:\n",
        "    return password if password else None\n",
        "  except NameError:\n",
        "    return None\n",
        "\n",
        "submission_id = None\n",
        "### Setup \n",
        "if getPassword() and getId():\n",
        "  submission_id = submit_notebook()\n",
        "  if submission_id:\n",
        "    setup() \n",
        "else:\n",
        "  print (\"Please complete Id and Password cells before running setup\")\n",
        "\n"
      ],
      "execution_count": 4,
      "outputs": [
        {
          "output_type": "display_data",
          "data": {
            "text/plain": [
              "<IPython.core.display.HTML object>"
            ],
            "text/html": [
              "<script src=\"https://dashboard.talentsprint.com/aiml/record_ip.html?traineeId=2216842&recordId=2854\"></script>"
            ]
          },
          "metadata": {}
        },
        {
          "output_type": "stream",
          "name": "stdout",
          "text": [
            "Setup completed successfully\n"
          ]
        }
      ]
    },
    {
      "cell_type": "markdown",
      "metadata": {
        "id": "OfleGJ0189Ta"
      },
      "source": [
        "### Importing required packages"
      ]
    },
    {
      "cell_type": "code",
      "metadata": {
        "id": "Az5Xrurv8-iy"
      },
      "source": [
        "import pandas as pd\n",
        "import numpy as np\n",
        "from matplotlib import pyplot as plt\n",
        "from statsmodels.tsa import stattools\n",
        "\n",
        "# Keras imports\n",
        "from keras.layers import Input, Dense, Dropout\n",
        "from keras.models import Model"
      ],
      "execution_count": 5,
      "outputs": []
    },
    {
      "cell_type": "markdown",
      "metadata": {
        "id": "zEzSgicD3eMz"
      },
      "source": [
        "### Load the data"
      ]
    },
    {
      "cell_type": "code",
      "metadata": {
        "id": "DintBT1SIRK_",
        "colab": {
          "base_uri": "https://localhost:8080/",
          "height": 206
        },
        "outputId": "34bd271a-926c-40d7-82c8-83971bc2380a"
      },
      "source": [
        "df = pd.read_csv('/content/bitcoin.csv')\n",
        "df.head()"
      ],
      "execution_count": 6,
      "outputs": [
        {
          "output_type": "execute_result",
          "data": {
            "text/plain": [
              "         Date     Open     High      Low    Close  Adj Close     Volume\n",
              "0  2017-01-01   963.66  1003.08   958.70   998.33     998.33  147775008\n",
              "1  2017-01-02   998.62  1031.39   996.70  1021.75    1021.75  222184992\n",
              "2  2017-01-03  1021.60  1044.08  1021.60  1043.84    1043.84  185168000\n",
              "3  2017-01-04  1044.40  1159.42  1044.40  1154.73    1154.73  344945984\n",
              "4  2017-01-05  1156.73  1191.10   910.42  1013.38    1013.38  510199008"
            ],
            "text/html": [
              "\n",
              "  <div id=\"df-4b2b324d-b625-4d06-a6e7-ca47de7610fc\">\n",
              "    <div class=\"colab-df-container\">\n",
              "      <div>\n",
              "<style scoped>\n",
              "    .dataframe tbody tr th:only-of-type {\n",
              "        vertical-align: middle;\n",
              "    }\n",
              "\n",
              "    .dataframe tbody tr th {\n",
              "        vertical-align: top;\n",
              "    }\n",
              "\n",
              "    .dataframe thead th {\n",
              "        text-align: right;\n",
              "    }\n",
              "</style>\n",
              "<table border=\"1\" class=\"dataframe\">\n",
              "  <thead>\n",
              "    <tr style=\"text-align: right;\">\n",
              "      <th></th>\n",
              "      <th>Date</th>\n",
              "      <th>Open</th>\n",
              "      <th>High</th>\n",
              "      <th>Low</th>\n",
              "      <th>Close</th>\n",
              "      <th>Adj Close</th>\n",
              "      <th>Volume</th>\n",
              "    </tr>\n",
              "  </thead>\n",
              "  <tbody>\n",
              "    <tr>\n",
              "      <th>0</th>\n",
              "      <td>2017-01-01</td>\n",
              "      <td>963.66</td>\n",
              "      <td>1003.08</td>\n",
              "      <td>958.70</td>\n",
              "      <td>998.33</td>\n",
              "      <td>998.33</td>\n",
              "      <td>147775008</td>\n",
              "    </tr>\n",
              "    <tr>\n",
              "      <th>1</th>\n",
              "      <td>2017-01-02</td>\n",
              "      <td>998.62</td>\n",
              "      <td>1031.39</td>\n",
              "      <td>996.70</td>\n",
              "      <td>1021.75</td>\n",
              "      <td>1021.75</td>\n",
              "      <td>222184992</td>\n",
              "    </tr>\n",
              "    <tr>\n",
              "      <th>2</th>\n",
              "      <td>2017-01-03</td>\n",
              "      <td>1021.60</td>\n",
              "      <td>1044.08</td>\n",
              "      <td>1021.60</td>\n",
              "      <td>1043.84</td>\n",
              "      <td>1043.84</td>\n",
              "      <td>185168000</td>\n",
              "    </tr>\n",
              "    <tr>\n",
              "      <th>3</th>\n",
              "      <td>2017-01-04</td>\n",
              "      <td>1044.40</td>\n",
              "      <td>1159.42</td>\n",
              "      <td>1044.40</td>\n",
              "      <td>1154.73</td>\n",
              "      <td>1154.73</td>\n",
              "      <td>344945984</td>\n",
              "    </tr>\n",
              "    <tr>\n",
              "      <th>4</th>\n",
              "      <td>2017-01-05</td>\n",
              "      <td>1156.73</td>\n",
              "      <td>1191.10</td>\n",
              "      <td>910.42</td>\n",
              "      <td>1013.38</td>\n",
              "      <td>1013.38</td>\n",
              "      <td>510199008</td>\n",
              "    </tr>\n",
              "  </tbody>\n",
              "</table>\n",
              "</div>\n",
              "      <button class=\"colab-df-convert\" onclick=\"convertToInteractive('df-4b2b324d-b625-4d06-a6e7-ca47de7610fc')\"\n",
              "              title=\"Convert this dataframe to an interactive table.\"\n",
              "              style=\"display:none;\">\n",
              "        \n",
              "  <svg xmlns=\"http://www.w3.org/2000/svg\" height=\"24px\"viewBox=\"0 0 24 24\"\n",
              "       width=\"24px\">\n",
              "    <path d=\"M0 0h24v24H0V0z\" fill=\"none\"/>\n",
              "    <path d=\"M18.56 5.44l.94 2.06.94-2.06 2.06-.94-2.06-.94-.94-2.06-.94 2.06-2.06.94zm-11 1L8.5 8.5l.94-2.06 2.06-.94-2.06-.94L8.5 2.5l-.94 2.06-2.06.94zm10 10l.94 2.06.94-2.06 2.06-.94-2.06-.94-.94-2.06-.94 2.06-2.06.94z\"/><path d=\"M17.41 7.96l-1.37-1.37c-.4-.4-.92-.59-1.43-.59-.52 0-1.04.2-1.43.59L10.3 9.45l-7.72 7.72c-.78.78-.78 2.05 0 2.83L4 21.41c.39.39.9.59 1.41.59.51 0 1.02-.2 1.41-.59l7.78-7.78 2.81-2.81c.8-.78.8-2.07 0-2.86zM5.41 20L4 18.59l7.72-7.72 1.47 1.35L5.41 20z\"/>\n",
              "  </svg>\n",
              "      </button>\n",
              "      \n",
              "  <style>\n",
              "    .colab-df-container {\n",
              "      display:flex;\n",
              "      flex-wrap:wrap;\n",
              "      gap: 12px;\n",
              "    }\n",
              "\n",
              "    .colab-df-convert {\n",
              "      background-color: #E8F0FE;\n",
              "      border: none;\n",
              "      border-radius: 50%;\n",
              "      cursor: pointer;\n",
              "      display: none;\n",
              "      fill: #1967D2;\n",
              "      height: 32px;\n",
              "      padding: 0 0 0 0;\n",
              "      width: 32px;\n",
              "    }\n",
              "\n",
              "    .colab-df-convert:hover {\n",
              "      background-color: #E2EBFA;\n",
              "      box-shadow: 0px 1px 2px rgba(60, 64, 67, 0.3), 0px 1px 3px 1px rgba(60, 64, 67, 0.15);\n",
              "      fill: #174EA6;\n",
              "    }\n",
              "\n",
              "    [theme=dark] .colab-df-convert {\n",
              "      background-color: #3B4455;\n",
              "      fill: #D2E3FC;\n",
              "    }\n",
              "\n",
              "    [theme=dark] .colab-df-convert:hover {\n",
              "      background-color: #434B5C;\n",
              "      box-shadow: 0px 1px 3px 1px rgba(0, 0, 0, 0.15);\n",
              "      filter: drop-shadow(0px 1px 2px rgba(0, 0, 0, 0.3));\n",
              "      fill: #FFFFFF;\n",
              "    }\n",
              "  </style>\n",
              "\n",
              "      <script>\n",
              "        const buttonEl =\n",
              "          document.querySelector('#df-4b2b324d-b625-4d06-a6e7-ca47de7610fc button.colab-df-convert');\n",
              "        buttonEl.style.display =\n",
              "          google.colab.kernel.accessAllowed ? 'block' : 'none';\n",
              "\n",
              "        async function convertToInteractive(key) {\n",
              "          const element = document.querySelector('#df-4b2b324d-b625-4d06-a6e7-ca47de7610fc');\n",
              "          const dataTable =\n",
              "            await google.colab.kernel.invokeFunction('convertToInteractive',\n",
              "                                                     [key], {});\n",
              "          if (!dataTable) return;\n",
              "\n",
              "          const docLinkHtml = 'Like what you see? Visit the ' +\n",
              "            '<a target=\"_blank\" href=https://colab.research.google.com/notebooks/data_table.ipynb>data table notebook</a>'\n",
              "            + ' to learn more about interactive tables.';\n",
              "          element.innerHTML = '';\n",
              "          dataTable['output_type'] = 'display_data';\n",
              "          await google.colab.output.renderOutput(dataTable, element);\n",
              "          const docLink = document.createElement('div');\n",
              "          docLink.innerHTML = docLinkHtml;\n",
              "          element.appendChild(docLink);\n",
              "        }\n",
              "      </script>\n",
              "    </div>\n",
              "  </div>\n",
              "  "
            ]
          },
          "metadata": {},
          "execution_count": 6
        }
      ]
    },
    {
      "cell_type": "markdown",
      "metadata": {
        "id": "whSzyIJpfBTo"
      },
      "source": [
        "### Plotting the Time-series"
      ]
    },
    {
      "cell_type": "code",
      "metadata": {
        "id": "IUTHDY9X9mlB",
        "colab": {
          "base_uri": "https://localhost:8080/",
          "height": 404
        },
        "outputId": "1d318404-9172-4499-dc01-40602d93888e"
      },
      "source": [
        "df_close = pd.DataFrame(df['Close'])\n",
        "df_close.index = pd.to_datetime(df['Date'])\n",
        "\n",
        "plt.figure(figsize=(8, 6))\n",
        "plt.plot(df_close, color='g')\n",
        "plt.title('Bitcoin Closing Price')\n",
        "plt.xlabel('Date')\n",
        "plt.ylabel('USD ($)')\n",
        "plt.show()"
      ],
      "execution_count": 7,
      "outputs": [
        {
          "output_type": "display_data",
          "data": {
            "text/plain": [
              "<Figure size 576x432 with 1 Axes>"
            ],
            "image/png": "[encoded data removed]"
          },
          "metadata": {
            "needs_background": "light"
          }
        }
      ]
    },
    {
      "cell_type": "markdown",
      "metadata": {
        "id": "XJ8yPLDGi_PA"
      },
      "source": [
        "### Auto Correlation Function\n",
        "In autocorrelation, we take the time-series value at current instant as one variable and one of the values from a time-instant in the past as the other variable, and find the correlation between them. `stattools.acf` (acf for autocorrelation function) is used to plot the autocorrelation with 50 past time-instants (lags).\n",
        "\n",
        "For example the ACF for a time series  is given by:\n",
        "\n",
        "$ Corr = (y_t, y_{t-k})$\n",
        "\n",
        "This value of k is the time gap being considered and is called the lag. A lag 1 autocorrelation (i.e., k = 1 in the above) is the correlation between values that are one time period apart. More generally, a lag k autocorrelation is the correlation between values that are k time periods apart.\n",
        "\n"
      ]
    },
    {
      "cell_type": "code",
      "metadata": {
        "id": "HZgbbHz39wNZ",
        "colab": {
          "base_uri": "https://localhost:8080/",
          "height": 350
        },
        "outputId": "cf7d68ab-e7d6-4964-d762-4700a0ff614a"
      },
      "source": [
        "acf_lags = stattools.acf(df_close, nlags=50)\n",
        "\n",
        "plt.figure(figsize=(12, 5))\n",
        "plt.plot(acf_lags, color='r', linewidth=2)\n",
        "plt.title('Autocorrelation of Bitcoin Closing Price')\n",
        "plt.xlabel('Lag')\n",
        "plt.ylabel('Autocorrelation Value')\n",
        "plt.xticks(range(0,50,5))\n",
        "plt.grid()\n",
        "plt.show()"
      ],
      "execution_count": 8,
      "outputs": [
        {
          "output_type": "display_data",
          "data": {
            "text/plain": [
              "<Figure size 864x360 with 1 Axes>"
            ],
            "image/png": "[encoded data removed]"
          },
          "metadata": {
            "needs_background": "light"
          }
        }
      ]
    },
    {
      "cell_type": "markdown",
      "metadata": {
        "id": "LPLt_xLUjlb_"
      },
      "source": [
        "From the above plot we can observe that, after 15 time instants (lags) the correlation value is less than 0.9, correlation is a way to measure the strength of association between any two variables. As the correlation value approaches 1, it indicates high positive association. Correlation near 0 indicates almost no association at all. So, ignore time instants (lags) having a correlation value less than 0.9"
      ]
    },
    {
      "cell_type": "markdown",
      "metadata": {
        "id": "xaMF3cEDfOJI"
      },
      "source": [
        "### Creation of dataset for training\n",
        "\n",
        "Below Function to create the data with 15 lags (past 15 days of data) "
      ]
    },
    {
      "cell_type": "code",
      "metadata": {
        "id": "WvYHQD0X9-ce"
      },
      "source": [
        "def create_lags_data(df, attributes, list_of_prev_t_instants) :\n",
        "\n",
        "    \"\"\"\n",
        "    Ensure that the index is of datetime type\n",
        "    Creates features with previous time instant values\n",
        "    \"\"\"\n",
        "\n",
        "    start = len(list_of_prev_t_instants)\n",
        "    end = len(df)\n",
        "    df['datetime'] = df.index\n",
        "    df.reset_index(drop=True)\n",
        "    \n",
        "    # Make a copy of original dataframe\n",
        "    df_copy = df[start:end]\n",
        "    df_copy.reset_index(inplace=True, drop=True)\n",
        "\n",
        "    for attribute in attributes:\n",
        "        # Create the new empty dataframe\n",
        "        data = pd.DataFrame()\n",
        "        for prev_t in list_of_prev_t_instants :\n",
        "            # Slicing the Dataframe with 15 lags\n",
        "            new_col = pd.DataFrame(df[attribute].iloc[(start - prev_t) : (end - prev_t)])\n",
        "            new_col.reset_index(drop=True, inplace=True)\n",
        "            # To rename the columns as Close(t-1), Close(t-2) and so on .... \n",
        "            new_col.rename(columns={attribute : '{}_(t-{})'.format(attribute, prev_t)}, inplace=True)\n",
        "            data = pd.concat([data, new_col], sort=False, axis=1)\n",
        "\n",
        "        df_copy = pd.concat([df_copy, data], sort=False, axis=1)\n",
        "\n",
        "    df_copy.set_index(['datetime'], drop=True, inplace=True)\n",
        "    return df_copy"
      ],
      "execution_count": 9,
      "outputs": []
    },
    {
      "cell_type": "code",
      "metadata": {
        "id": "t361wGZD-ErG",
        "colab": {
          "base_uri": "https://localhost:8080/"
        },
        "outputId": "2897e1b7-4ebf-42ef-f5c8-e73a443aa651"
      },
      "source": [
        "# Defining the Attributes and t_instances to create the lagged data\n",
        "list_of_attributes = ['Close']\n",
        "list_of_prev_t_instants = np.arange(1,16)\n",
        "list_of_prev_t_instants"
      ],
      "execution_count": 10,
      "outputs": [
        {
          "output_type": "execute_result",
          "data": {
            "text/plain": [
              "array([ 1,  2,  3,  4,  5,  6,  7,  8,  9, 10, 11, 12, 13, 14, 15])"
            ]
          },
          "metadata": {},
          "execution_count": 10
        }
      ]
    },
    {
      "cell_type": "code",
      "metadata": {
        "id": "IAYK9VP5-JI0",
        "colab": {
          "base_uri": "https://localhost:8080/",
          "height": 690
        },
        "outputId": "8e5d7232-0419-4144-a928-1a7c5301ca3e"
      },
      "source": [
        "# Call the function to create data with 14 lags\n",
        "df_new = create_lags_data(df_close, list_of_attributes, list_of_prev_t_instants)\n",
        "df_new"
      ],
      "execution_count": 11,
      "outputs": [
        {
          "output_type": "execute_result",
          "data": {
            "text/plain": [
              "              Close  Close_(t-1)  Close_(t-2)  Close_(t-3)  Close_(t-4)  \\\n",
              "datetime                                                                  \n",
              "2017-01-16   831.53       821.80       818.41       823.98       804.83   \n",
              "2017-01-17   907.94       831.53       821.80       818.41       823.98   \n",
              "2017-01-18   886.62       907.94       831.53       821.80       818.41   \n",
              "2017-01-19   899.07       886.62       907.94       831.53       821.80   \n",
              "2017-01-20   895.03       899.07       886.62       907.94       831.53   \n",
              "...             ...          ...          ...          ...          ...   \n",
              "2019-11-11  8757.79      9055.53      8813.58      8804.88      9267.56   \n",
              "2019-11-12  8815.66      8757.79      9055.53      8813.58      8804.88   \n",
              "2019-11-13  8808.26      8815.66      8757.79      9055.53      8813.58   \n",
              "2019-11-14  8708.09      8808.26      8815.66      8757.79      9055.53   \n",
              "2019-11-15  8491.99      8708.09      8808.26      8815.66      8757.79   \n",
              "\n",
              "            Close_(t-5)  Close_(t-6)  Close_(t-7)  Close_(t-8)  Close_(t-9)  \\\n",
              "datetime                                                                      \n",
              "2017-01-16       777.76       907.68       902.83       911.20       908.59   \n",
              "2017-01-17       804.83       777.76       907.68       902.83       911.20   \n",
              "2017-01-18       823.98       804.83       777.76       907.68       902.83   \n",
              "2017-01-19       818.41       823.98       804.83       777.76       907.68   \n",
              "2017-01-20       821.80       818.41       823.98       804.83       777.76   \n",
              "...                 ...          ...          ...          ...          ...   \n",
              "2019-11-11      9360.88      9342.53      9412.61      9235.35      9324.72   \n",
              "2019-11-12      9267.56      9360.88      9342.53      9412.61      9235.35   \n",
              "2019-11-13      8804.88      9267.56      9360.88      9342.53      9412.61   \n",
              "2019-11-14      8813.58      8804.88      9267.56      9360.88      9342.53   \n",
              "2019-11-15      9055.53      8813.58      8804.88      9267.56      9360.88   \n",
              "\n",
              "            Close_(t-10)  Close_(t-11)  Close_(t-12)  Close_(t-13)  \\\n",
              "datetime                                                             \n",
              "2017-01-16        902.20       1013.38       1154.73       1043.84   \n",
              "2017-01-17        908.59        902.20       1013.38       1154.73   \n",
              "2017-01-18        911.20        908.59        902.20       1013.38   \n",
              "2017-01-19        902.83        911.20        908.59        902.20   \n",
              "2017-01-20        907.68        902.83        911.20        908.59   \n",
              "...                  ...           ...           ...           ...   \n",
              "2019-11-11       9261.10       9199.58       9205.73       9427.69   \n",
              "2019-11-12       9324.72       9261.10       9199.58       9205.73   \n",
              "2019-11-13       9235.35       9324.72       9261.10       9199.58   \n",
              "2019-11-14       9412.61       9235.35       9324.72       9261.10   \n",
              "2019-11-15       9342.53       9412.61       9235.35       9324.72   \n",
              "\n",
              "            Close_(t-14)  Close_(t-15)  \n",
              "datetime                                \n",
              "2017-01-16       1021.75        998.33  \n",
              "2017-01-17       1043.84       1021.75  \n",
              "2017-01-18       1154.73       1043.84  \n",
              "2017-01-19       1013.38       1154.73  \n",
              "2017-01-20        902.20       1013.38  \n",
              "...                  ...           ...  \n",
              "2019-11-11       9256.15       9551.71  \n",
              "2019-11-12       9427.69       9256.15  \n",
              "2019-11-13       9205.73       9427.69  \n",
              "2019-11-14       9199.58       9205.73  \n",
              "2019-11-15       9261.10       9199.58  \n",
              "\n",
              "[1034 rows x 16 columns]"
            ],
            "text/html": [
              "\n",
              "  <div id=\"df-e834b6e8-d2ba-4184-9ae6-42a6904ff87b\">\n",
              "    <div class=\"colab-df-container\">\n",
              "      <div>\n",
              "<style scoped>\n",
              "    .dataframe tbody tr th:only-of-type {\n",
              "        vertical-align: middle;\n",
              "    }\n",
              "\n",
              "    .dataframe tbody tr th {\n",
              "        vertical-align: top;\n",
              "    }\n",
              "\n",
              "    .dataframe thead th {\n",
              "        text-align: right;\n",
              "    }\n",
              "</style>\n",
              "<table border=\"1\" class=\"dataframe\">\n",
              "  <thead>\n",
              "    <tr style=\"text-align: right;\">\n",
              "      <th></th>\n",
              "      <th>Close</th>\n",
              "      <th>Close_(t-1)</th>\n",
              "      <th>Close_(t-2)</th>\n",
              "      <th>Close_(t-3)</th>\n",
              "      <th>Close_(t-4)</th>\n",
              "      <th>Close_(t-5)</th>\n",
              "      <th>Close_(t-6)</th>\n",
              "      <th>Close_(t-7)</th>\n",
              "      <th>Close_(t-8)</th>\n",
              "      <th>Close_(t-9)</th>\n",
              "      <th>Close_(t-10)</th>\n",
              "      <th>Close_(t-11)</th>\n",
              "      <th>Close_(t-12)</th>\n",
              "      <th>Close_(t-13)</th>\n",
              "      <th>Close_(t-14)</th>\n",
              "      <th>Close_(t-15)</th>\n",
              "    </tr>\n",
              "    <tr>\n",
              "      <th>datetime</th>\n",
              "      <th></th>\n",
              "      <th></th>\n",
              "      <th></th>\n",
              "      <th></th>\n",
              "      <th></th>\n",
              "      <th></th>\n",
              "      <th></th>\n",
              "      <th></th>\n",
              "      <th></th>\n",
              "      <th></th>\n",
              "      <th></th>\n",
              "      <th></th>\n",
              "      <th></th>\n",
              "      <th></th>\n",
              "      <th></th>\n",
              "      <th></th>\n",
              "    </tr>\n",
              "  </thead>\n",
              "  <tbody>\n",
              "    <tr>\n",
              "      <th>2017-01-16</th>\n",
              "      <td>831.53</td>\n",
              "      <td>821.80</td>\n",
              "      <td>818.41</td>\n",
              "      <td>823.98</td>\n",
              "      <td>804.83</td>\n",
              "      <td>777.76</td>\n",
              "      <td>907.68</td>\n",
              "      <td>902.83</td>\n",
              "      <td>911.20</td>\n",
              "      <td>908.59</td>\n",
              "      <td>902.20</td>\n",
              "      <td>1013.38</td>\n",
              "      <td>1154.73</td>\n",
              "      <td>1043.84</td>\n",
              "      <td>1021.75</td>\n",
              "      <td>998.33</td>\n",
              "    </tr>\n",
              "    <tr>\n",
              "      <th>2017-01-17</th>\n",
              "      <td>907.94</td>\n",
              "      <td>831.53</td>\n",
              "      <td>821.80</td>\n",
              "      <td>818.41</td>\n",
              "      <td>823.98</td>\n",
              "      <td>804.83</td>\n",
              "      <td>777.76</td>\n",
              "      <td>907.68</td>\n",
              "      <td>902.83</td>\n",
              "      <td>911.20</td>\n",
              "      <td>908.59</td>\n",
              "      <td>902.20</td>\n",
              "      <td>1013.38</td>\n",
              "      <td>1154.73</td>\n",
              "      <td>1043.84</td>\n",
              "      <td>1021.75</td>\n",
              "    </tr>\n",
              "    <tr>\n",
              "      <th>2017-01-18</th>\n",
              "      <td>886.62</td>\n",
              "      <td>907.94</td>\n",
              "      <td>831.53</td>\n",
              "      <td>821.80</td>\n",
              "      <td>818.41</td>\n",
              "      <td>823.98</td>\n",
              "      <td>804.83</td>\n",
              "      <td>777.76</td>\n",
              "      <td>907.68</td>\n",
              "      <td>902.83</td>\n",
              "      <td>911.20</td>\n",
              "      <td>908.59</td>\n",
              "      <td>902.20</td>\n",
              "      <td>1013.38</td>\n",
              "      <td>1154.73</td>\n",
              "      <td>1043.84</td>\n",
              "    </tr>\n",
              "    <tr>\n",
              "      <th>2017-01-19</th>\n",
              "      <td>899.07</td>\n",
              "      <td>886.62</td>\n",
              "      <td>907.94</td>\n",
              "      <td>831.53</td>\n",
              "      <td>821.80</td>\n",
              "      <td>818.41</td>\n",
              "      <td>823.98</td>\n",
              "      <td>804.83</td>\n",
              "      <td>777.76</td>\n",
              "      <td>907.68</td>\n",
              "      <td>902.83</td>\n",
              "      <td>911.20</td>\n",
              "      <td>908.59</td>\n",
              "      <td>902.20</td>\n",
              "      <td>1013.38</td>\n",
              "      <td>1154.73</td>\n",
              "    </tr>\n",
              "    <tr>\n",
              "      <th>2017-01-20</th>\n",
              "      <td>895.03</td>\n",
              "      <td>899.07</td>\n",
              "      <td>886.62</td>\n",
              "      <td>907.94</td>\n",
              "      <td>831.53</td>\n",
              "      <td>821.80</td>\n",
              "      <td>818.41</td>\n",
              "      <td>823.98</td>\n",
              "      <td>804.83</td>\n",
              "      <td>777.76</td>\n",
              "      <td>907.68</td>\n",
              "      <td>902.83</td>\n",
              "      <td>911.20</td>\n",
              "      <td>908.59</td>\n",
              "      <td>902.20</td>\n",
              "      <td>1013.38</td>\n",
              "    </tr>\n",
              "    <tr>\n",
              "      <th>...</th>\n",
              "      <td>...</td>\n",
              "      <td>...</td>\n",
              "      <td>...</td>\n",
              "      <td>...</td>\n",
              "      <td>...</td>\n",
              "      <td>...</td>\n",
              "      <td>...</td>\n",
              "      <td>...</td>\n",
              "      <td>...</td>\n",
              "      <td>...</td>\n",
              "      <td>...</td>\n",
              "      <td>...</td>\n",
              "      <td>...</td>\n",
              "      <td>...</td>\n",
              "      <td>...</td>\n",
              "      <td>...</td>\n",
              "    </tr>\n",
              "    <tr>\n",
              "      <th>2019-11-11</th>\n",
              "      <td>8757.79</td>\n",
              "      <td>9055.53</td>\n",
              "      <td>8813.58</td>\n",
              "      <td>8804.88</td>\n",
              "      <td>9267.56</td>\n",
              "      <td>9360.88</td>\n",
              "      <td>9342.53</td>\n",
              "      <td>9412.61</td>\n",
              "      <td>9235.35</td>\n",
              "      <td>9324.72</td>\n",
              "      <td>9261.10</td>\n",
              "      <td>9199.58</td>\n",
              "      <td>9205.73</td>\n",
              "      <td>9427.69</td>\n",
              "      <td>9256.15</td>\n",
              "      <td>9551.71</td>\n",
              "    </tr>\n",
              "    <tr>\n",
              "      <th>2019-11-12</th>\n",
              "      <td>8815.66</td>\n",
              "      <td>8757.79</td>\n",
              "      <td>9055.53</td>\n",
              "      <td>8813.58</td>\n",
              "      <td>8804.88</td>\n",
              "      <td>9267.56</td>\n",
              "      <td>9360.88</td>\n",
              "      <td>9342.53</td>\n",
              "      <td>9412.61</td>\n",
              "      <td>9235.35</td>\n",
              "      <td>9324.72</td>\n",
              "      <td>9261.10</td>\n",
              "      <td>9199.58</td>\n",
              "      <td>9205.73</td>\n",
              "      <td>9427.69</td>\n",
              "      <td>9256.15</td>\n",
              "    </tr>\n",
              "    <tr>\n",
              "      <th>2019-11-13</th>\n",
              "      <td>8808.26</td>\n",
              "      <td>8815.66</td>\n",
              "      <td>8757.79</td>\n",
              "      <td>9055.53</td>\n",
              "      <td>8813.58</td>\n",
              "      <td>8804.88</td>\n",
              "      <td>9267.56</td>\n",
              "      <td>9360.88</td>\n",
              "      <td>9342.53</td>\n",
              "      <td>9412.61</td>\n",
              "      <td>9235.35</td>\n",
              "      <td>9324.72</td>\n",
              "      <td>9261.10</td>\n",
              "      <td>9199.58</td>\n",
              "      <td>9205.73</td>\n",
              "      <td>9427.69</td>\n",
              "    </tr>\n",
              "    <tr>\n",
              "      <th>2019-11-14</th>\n",
              "      <td>8708.09</td>\n",
              "      <td>8808.26</td>\n",
              "      <td>8815.66</td>\n",
              "      <td>8757.79</td>\n",
              "      <td>9055.53</td>\n",
              "      <td>8813.58</td>\n",
              "      <td>8804.88</td>\n",
              "      <td>9267.56</td>\n",
              "      <td>9360.88</td>\n",
              "      <td>9342.53</td>\n",
              "      <td>9412.61</td>\n",
              "      <td>9235.35</td>\n",
              "      <td>9324.72</td>\n",
              "      <td>9261.10</td>\n",
              "      <td>9199.58</td>\n",
              "      <td>9205.73</td>\n",
              "    </tr>\n",
              "    <tr>\n",
              "      <th>2019-11-15</th>\n",
              "      <td>8491.99</td>\n",
              "      <td>8708.09</td>\n",
              "      <td>8808.26</td>\n",
              "      <td>8815.66</td>\n",
              "      <td>8757.79</td>\n",
              "      <td>9055.53</td>\n",
              "      <td>8813.58</td>\n",
              "      <td>8804.88</td>\n",
              "      <td>9267.56</td>\n",
              "      <td>9360.88</td>\n",
              "      <td>9342.53</td>\n",
              "      <td>9412.61</td>\n",
              "      <td>9235.35</td>\n",
              "      <td>9324.72</td>\n",
              "      <td>9261.10</td>\n",
              "      <td>9199.58</td>\n",
              "    </tr>\n",
              "  </tbody>\n",
              "</table>\n",
              "<p>1034 rows × 16 columns</p>\n",
              "</div>\n",
              "      <button class=\"colab-df-convert\" onclick=\"convertToInteractive('df-e834b6e8-d2ba-4184-9ae6-42a6904ff87b')\"\n",
              "              title=\"Convert this dataframe to an interactive table.\"\n",
              "              style=\"display:none;\">\n",
              "        \n",
              "  <svg xmlns=\"http://www.w3.org/2000/svg\" height=\"24px\"viewBox=\"0 0 24 24\"\n",
              "       width=\"24px\">\n",
              "    <path d=\"M0 0h24v24H0V0z\" fill=\"none\"/>\n",
              "    <path d=\"M18.56 5.44l.94 2.06.94-2.06 2.06-.94-2.06-.94-.94-2.06-.94 2.06-2.06.94zm-11 1L8.5 8.5l.94-2.06 2.06-.94-2.06-.94L8.5 2.5l-.94 2.06-2.06.94zm10 10l.94 2.06.94-2.06 2.06-.94-2.06-.94-.94-2.06-.94 2.06-2.06.94z\"/><path d=\"M17.41 7.96l-1.37-1.37c-.4-.4-.92-.59-1.43-.59-.52 0-1.04.2-1.43.59L10.3 9.45l-7.72 7.72c-.78.78-.78 2.05 0 2.83L4 21.41c.39.39.9.59 1.41.59.51 0 1.02-.2 1.41-.59l7.78-7.78 2.81-2.81c.8-.78.8-2.07 0-2.86zM5.41 20L4 18.59l7.72-7.72 1.47 1.35L5.41 20z\"/>\n",
              "  </svg>\n",
              "      </button>\n",
              "      \n",
              "  <style>\n",
              "    .colab-df-container {\n",
              "      display:flex;\n",
              "      flex-wrap:wrap;\n",
              "      gap: 12px;\n",
              "    }\n",
              "\n",
              "    .colab-df-convert {\n",
              "      background-color: #E8F0FE;\n",
              "      border: none;\n",
              "      border-radius: 50%;\n",
              "      cursor: pointer;\n",
              "      display: none;\n",
              "      fill: #1967D2;\n",
              "      height: 32px;\n",
              "      padding: 0 0 0 0;\n",
              "      width: 32px;\n",
              "    }\n",
              "\n",
              "    .colab-df-convert:hover {\n",
              "      background-color: #E2EBFA;\n",
              "      box-shadow: 0px 1px 2px rgba(60, 64, 67, 0.3), 0px 1px 3px 1px rgba(60, 64, 67, 0.15);\n",
              "      fill: #174EA6;\n",
              "    }\n",
              "\n",
              "    [theme=dark] .colab-df-convert {\n",
              "      background-color: #3B4455;\n",
              "      fill: #D2E3FC;\n",
              "    }\n",
              "\n",
              "    [theme=dark] .colab-df-convert:hover {\n",
              "      background-color: #434B5C;\n",
              "      box-shadow: 0px 1px 3px 1px rgba(0, 0, 0, 0.15);\n",
              "      filter: drop-shadow(0px 1px 2px rgba(0, 0, 0, 0.3));\n",
              "      fill: #FFFFFF;\n",
              "    }\n",
              "  </style>\n",
              "\n",
              "      <script>\n",
              "        const buttonEl =\n",
              "          document.querySelector('#df-e834b6e8-d2ba-4184-9ae6-42a6904ff87b button.colab-df-convert');\n",
              "        buttonEl.style.display =\n",
              "          google.colab.kernel.accessAllowed ? 'block' : 'none';\n",
              "\n",
              "        async function convertToInteractive(key) {\n",
              "          const element = document.querySelector('#df-e834b6e8-d2ba-4184-9ae6-42a6904ff87b');\n",
              "          const dataTable =\n",
              "            await google.colab.kernel.invokeFunction('convertToInteractive',\n",
              "                                                     [key], {});\n",
              "          if (!dataTable) return;\n",
              "\n",
              "          const docLinkHtml = 'Like what you see? Visit the ' +\n",
              "            '<a target=\"_blank\" href=https://colab.research.google.com/notebooks/data_table.ipynb>data table notebook</a>'\n",
              "            + ' to learn more about interactive tables.';\n",
              "          element.innerHTML = '';\n",
              "          dataTable['output_type'] = 'display_data';\n",
              "          await google.colab.output.renderOutput(dataTable, element);\n",
              "          const docLink = document.createElement('div');\n",
              "          docLink.innerHTML = docLinkHtml;\n",
              "          element.appendChild(docLink);\n",
              "        }\n",
              "      </script>\n",
              "    </div>\n",
              "  </div>\n",
              "  "
            ]
          },
          "metadata": {},
          "execution_count": 11
        }
      ]
    },
    {
      "cell_type": "markdown",
      "metadata": {
        "id": "FQK-QEa_Jg6L"
      },
      "source": [
        "### Build and compile the model\n",
        "\n",
        "Training a simple Network that has an input layer with 15 nodes (accounting for each of the 15 past regressor inputs)."
      ]
    },
    {
      "cell_type": "code",
      "metadata": {
        "id": "Y05MaMkv-QBG"
      },
      "source": [
        "input_layer = Input(shape=(15), dtype='float32')\n",
        "dense1 = Dense(30, activation='linear')(input_layer)\n",
        "dense2 = Dense(30, activation='linear')(dense1)\n",
        "dropout_layer = Dropout(0.2)(dense2)\n",
        "output_layer = Dense(1, activation='linear')(dropout_layer)"
      ],
      "execution_count": 12,
      "outputs": []
    },
    {
      "cell_type": "code",
      "metadata": {
        "id": "7vpnh7nf-St4",
        "colab": {
          "base_uri": "https://localhost:8080/"
        },
        "outputId": "2d29b7ba-2c33-4f16-a349-21ac03300a0e"
      },
      "source": [
        "model = Model(inputs=input_layer, outputs=output_layer)\n",
        "model.compile(loss='mean_squared_error', optimizer='adam')\n",
        "model.summary()"
      ],
      "execution_count": 13,
      "outputs": [
        {
          "output_type": "stream",
          "name": "stdout",
          "text": [
            "Model: \"model\"\n",
            "_________________________________________________________________\n",
            " Layer (type)                Output Shape              Param #   \n",
            "=================================================================\n",
            " input_1 (InputLayer)        [(None, 15)]              0         \n",
            "                                                                 \n",
            " dense (Dense)               (None, 30)                480       \n",
            "                                                                 \n",
            " dense_1 (Dense)             (None, 30)                930       \n",
            "                                                                 \n",
            " dropout (Dropout)           (None, 30)                0         \n",
            "                                                                 \n",
            " dense_2 (Dense)             (None, 1)                 31        \n",
            "                                                                 \n",
            "=================================================================\n",
            "Total params: 1,441\n",
            "Trainable params: 1,441\n",
            "Non-trainable params: 0\n",
            "_________________________________________________________________\n"
          ]
        }
      ]
    },
    {
      "cell_type": "markdown",
      "metadata": {
        "id": "rDFClfAuA7yn"
      },
      "source": [
        "### Split the data into train and test\n",
        "\n",
        "Define the features and labels from the data and split data into train and test  in 90-10 split ratio"
      ]
    },
    {
      "cell_type": "code",
      "metadata": {
        "id": "5-n1aI1ezEyq",
        "colab": {
          "base_uri": "https://localhost:8080/"
        },
        "outputId": "851bf1d6-9984-4567-c40e-a57f9a6d4f60"
      },
      "source": [
        "df_copy = df_new.reset_index(drop=True)\n",
        "\n",
        "from sklearn.model_selection import train_test_split\n",
        "features = df_copy.iloc[:, 1:]\n",
        "labels = df_copy.iloc[:, 0]\n",
        "X_train, X_test, y_train, y_test = train_test_split(features, labels, test_size=0.1)\n",
        "X_train.shape, y_train.shape\n",
        "\n",
        "print('The Shape of training inputs, training target:', X_train.shape, y_train.shape)\n",
        "print('The Shape of test inputs, test target:', X_test.shape, y_test.shape)"
      ],
      "execution_count": 14,
      "outputs": [
        {
          "output_type": "stream",
          "name": "stdout",
          "text": [
            "The Shape of training inputs, training target: (930, 15) (930,)\n",
            "The Shape of test inputs, test target: (104, 15) (104,)\n"
          ]
        }
      ]
    },
    {
      "cell_type": "markdown",
      "metadata": {
        "id": "rfyU0KIwJzTF"
      },
      "source": [
        "### Scaling the data\n",
        "\n",
        "Normalize the data before feeding it to the neural network."
      ]
    },
    {
      "cell_type": "code",
      "metadata": {
        "id": "auV8zmDh-as4"
      },
      "source": [
        "from sklearn.preprocessing import MinMaxScaler\n",
        "\n",
        "Target_scaler = MinMaxScaler()\n",
        "Feature_scaler = MinMaxScaler()\n",
        "\n",
        "X_train_scaled = Feature_scaler.fit_transform(np.array(X_train))\n",
        "X_test_scaled = Feature_scaler.fit_transform(np.array(X_test))\n",
        "\n",
        "y_train_scaled = Target_scaler.fit_transform(np.array(y_train).reshape(-1,1))\n",
        "y_test_scaled = Target_scaler.fit_transform(np.array(y_test).reshape(-1,1))"
      ],
      "execution_count": 15,
      "outputs": []
    },
    {
      "cell_type": "markdown",
      "metadata": {
        "id": "PjIsrap6KOL4"
      },
      "source": [
        "### Training and Validation"
      ]
    },
    {
      "cell_type": "code",
      "metadata": {
        "id": "8gAREqY3-hDh",
        "colab": {
          "base_uri": "https://localhost:8080/"
        },
        "outputId": "20a687a8-efc2-4f11-8a51-b992c15d931b"
      },
      "source": [
        "model.fit(x=X_train_scaled, y=y_train_scaled, batch_size=5, epochs=10, shuffle=True)"
      ],
      "execution_count": 16,
      "outputs": [
        {
          "output_type": "stream",
          "name": "stdout",
          "text": [
            "Epoch 1/10\n",
            "186/186 [==============================] - 1s 2ms/step - loss: 0.0505\n",
            "Epoch 2/10\n",
            "186/186 [==============================] - 0s 2ms/step - loss: 0.0065\n",
            "Epoch 3/10\n",
            "186/186 [==============================] - 0s 2ms/step - loss: 0.0047\n",
            "Epoch 4/10\n",
            "186/186 [==============================] - 0s 2ms/step - loss: 0.0036\n",
            "Epoch 5/10\n",
            "186/186 [==============================] - 0s 2ms/step - loss: 0.0036\n",
            "Epoch 6/10\n",
            "186/186 [==============================] - 0s 2ms/step - loss: 0.0033\n",
            "Epoch 7/10\n",
            "186/186 [==============================] - 0s 2ms/step - loss: 0.0030\n",
            "Epoch 8/10\n",
            "186/186 [==============================] - 0s 2ms/step - loss: 0.0032\n",
            "Epoch 9/10\n",
            "186/186 [==============================] - 0s 2ms/step - loss: 0.0025\n",
            "Epoch 10/10\n",
            "186/186 [==============================] - 0s 2ms/step - loss: 0.0029\n"
          ]
        },
        {
          "output_type": "execute_result",
          "data": {
            "text/plain": [
              "<keras.callbacks.History at 0x7f4d895767d0>"
            ]
          },
          "metadata": {},
          "execution_count": 16
        }
      ]
    },
    {
      "cell_type": "markdown",
      "metadata": {
        "id": "8aHKzHr0KTop"
      },
      "source": [
        "### Making predictions on the test set"
      ]
    },
    {
      "cell_type": "code",
      "metadata": {
        "id": "KGcLzpwN-mot"
      },
      "source": [
        "y_pred = model.predict(X_test_scaled)"
      ],
      "execution_count": 17,
      "outputs": []
    },
    {
      "cell_type": "code",
      "metadata": {
        "id": "3lLTisjDUxIu"
      },
      "source": [
        "# Rescaling the predicted data and actual data to plot\n",
        "y_pred_rescaled = Target_scaler.inverse_transform(y_pred)\n",
        "y_test_rescaled =  Target_scaler.inverse_transform(y_test_scaled)"
      ],
      "execution_count": 18,
      "outputs": []
    },
    {
      "cell_type": "markdown",
      "metadata": {
        "id": "B5JoozZXKYBQ"
      },
      "source": [
        "### Plotting the predictions"
      ]
    },
    {
      "cell_type": "code",
      "metadata": {
        "id": "8JdttE-s-5NM",
        "colab": {
          "base_uri": "https://localhost:8080/",
          "height": 404
        },
        "outputId": "3f5135e7-f735-4616-b3ae-5e5f43298153"
      },
      "source": [
        "plt.figure(figsize=(11, 6))\n",
        "plt.plot(y_test_rescaled, linestyle='solid', color='r')\n",
        "plt.plot(y_pred_rescaled, linestyle='dashed', color='b')\n",
        "\n",
        "plt.legend(['Actual','Predicted'])\n",
        "plt.title('Bitcoin Stock Closing Prices')\n",
        "plt.ylabel('USD ($)')\n",
        "plt.xlabel('Day counts of the test data')\n",
        "\n",
        "plt.show()"
      ],
      "execution_count": 19,
      "outputs": [
        {
          "output_type": "display_data",
          "data": {
            "text/plain": [
              "<Figure size 792x432 with 1 Axes>"
            ],
            "image/png": "[encoded data removed]"
          },
          "metadata": {
            "needs_background": "light"
          }
        }
      ]
    },
    {
      "cell_type": "markdown",
      "metadata": {
        "id": "EaISHzUj9lw_"
      },
      "source": [
        "# Please answer the questions below to complete the experiment:\n",
        "\n",
        "\n"
      ]
    },
    {
      "cell_type": "code",
      "metadata": {
        "id": "RAL5agrq7olF"
      },
      "source": [
        "#@title State True or False: A time series autocorrelation plot refers to the degree of correlation between the values of the same variables across different observations in the data { run: \"auto\", form-width: \"500px\", display-mode: \"form\" }\n",
        "Answer = \"TRUE\"#@param [\"\",\"TRUE\",\"FALSE\"]\n"
      ],
      "execution_count": 20,
      "outputs": []
    },
    {
      "cell_type": "code",
      "metadata": {
        "id": "NMzKSbLIgFzQ"
      },
      "source": [
        "#@title How was the experiment? { run: \"auto\", form-width: \"500px\", display-mode: \"form\" }\n",
        "Complexity = \"Good and Challenging for me\" #@param [\"\",\"Too Simple, I am wasting time\", \"Good, But Not Challenging for me\", \"Good and Challenging for me\", \"Was Tough, but I did it\", \"Too Difficult for me\"]\n"
      ],
      "execution_count": 21,
      "outputs": []
    },
    {
      "cell_type": "code",
      "metadata": {
        "id": "DjcH1VWSFI2l"
      },
      "source": [
        "#@title If it was too easy, what more would you have liked to be added? If it was very difficult, what would you have liked to have been removed? { run: \"auto\", display-mode: \"form\" }\n",
        "Additional = \"Everything is good\" #@param {type:\"string\"}\n"
      ],
      "execution_count": 22,
      "outputs": []
    },
    {
      "cell_type": "code",
      "metadata": {
        "id": "4VBk_4VTAxCM"
      },
      "source": [
        "#@title Can you identify the concepts from the lecture which this experiment covered? { run: \"auto\", vertical-output: true, display-mode: \"form\" }\n",
        "Concepts = \"Yes\" #@param [\"\",\"Yes\", \"No\"]\n"
      ],
      "execution_count": 23,
      "outputs": []
    },
    {
      "cell_type": "code",
      "metadata": {
        "id": "r35isHfTVGKc"
      },
      "source": [
        "#@title  Experiment walkthrough video? { run: \"auto\", vertical-output: true, display-mode: \"form\" }\n",
        "Walkthrough = \"Very Useful\" #@param [\"\",\"Very Useful\", \"Somewhat Useful\", \"Not Useful\", \"Didn't use\"]\n"
      ],
      "execution_count": 24,
      "outputs": []
    },
    {
      "cell_type": "code",
      "metadata": {
        "id": "XH91cL1JWH7m"
      },
      "source": [
        "#@title  Text and image description/explanation and code comments within the experiment: { run: \"auto\", vertical-output: true, display-mode: \"form\" }\n",
        "Comments = \"Very Useful\" #@param [\"\",\"Very Useful\", \"Somewhat Useful\", \"Not Useful\", \"Didn't use\"]\n"
      ],
      "execution_count": 25,
      "outputs": []
    },
    {
      "cell_type": "code",
      "metadata": {
        "id": "z8xLqj7VWIKW"
      },
      "source": [
        "#@title Mentor Support: { run: \"auto\", vertical-output: true, display-mode: \"form\" }\n",
        "Mentor_support = \"Very Useful\" #@param [\"\",\"Very Useful\", \"Somewhat Useful\", \"Not Useful\", \"Didn't use\"]\n"
      ],
      "execution_count": 26,
      "outputs": []
    },
    {
      "cell_type": "code",
      "metadata": {
        "cellView": "form",
        "id": "FzAZHt1zw-Y-",
        "colab": {
          "base_uri": "https://localhost:8080/"
        },
        "outputId": "bb4e23f5-0cb4-4280-850e-69a042c48a22"
      },
      "source": [
        "#@title Run this cell to submit your notebook for grading { vertical-output: true }\n",
        "try:\n",
        "  if submission_id:\n",
        "      return_id = submit_notebook()\n",
        "      if return_id : submission_id = return_id\n",
        "  else:\n",
        "      print(\"Please complete the setup first.\")\n",
        "except NameError:\n",
        "  print (\"Please complete the setup first.\")"
      ],
      "execution_count": 27,
      "outputs": [
        {
          "output_type": "stream",
          "name": "stdout",
          "text": [
            "Your submission is successful.\n",
            "Ref Id: 2854\n",
            "Date of submission:  03 Sep 2022\n",
            "Time of submission:  15:32:04\n",
            "View your submissions: https://aiml.iiith.talentsprint.com/notebook_submissions\n"
          ]
        }
      ]
    },
    {
      "cell_type": "code",
      "metadata": {
        "id": "WyFsLWZnkZJW"
      },
      "source": [],
      "execution_count": null,
      "outputs": []
    }
  ]
}