{
  "nbformat": 4,
  "nbformat_minor": 0,
  "metadata": {
    "accelerator": "GPU",
    "colab": {
      "name": "U3W14_26_Keras_Traffic_Sign_Detection_C.ipynb",
      "provenance": [],
      "collapsed_sections": [],
      "include_colab_link": true
    },
    "kernelspec": {
      "display_name": "Python 3",
      "name": "python3"
    }
  },
  "cells": [
    {
      "cell_type": "markdown",
      "metadata": {
        "id": "view-in-github",
        "colab_type": "text"
      },
      "source": [
        "<a href=\"https://colab.research.google.com/github/RahulJuluru2/unit3assignments/blob/main/U3W14_26_Keras_Traffic_Sign_Detection_C.ipynb\" target=\"_parent\"><img src=\"https://colab.research.google.com/assets/colab-badge.svg\" alt=\"Open In Colab\"/></a>"
      ]
    },
    {
      "cell_type": "markdown",
      "metadata": {
        "id": "2gD6DFr189TS"
      },
      "source": [
        "# Advanced Certification in AIML\n",
        "## A Program by IIIT-H and TalentSprint"
      ]
    },
    {
      "cell_type": "markdown",
      "metadata": {
        "id": "JkxYpEOgC2-q"
      },
      "source": [
        "## Learning Objectives\n",
        "\n",
        "\n",
        "\n"
      ]
    },
    {
      "cell_type": "markdown",
      "metadata": {
        "id": "byPkySyYcuq9"
      },
      "source": [
        "At the end of the experiment you will be able to :\n",
        "\n",
        "* load and extract features of images\n",
        "\n",
        "* implement convolutional neural networks using Keras"
      ]
    },
    {
      "cell_type": "code",
      "metadata": {
        "cellView": "form",
        "id": "3PGYcsim6A87"
      },
      "source": [
        "#@title Experiment Walkthrough Video\n",
        "\n",
        "from IPython.display import HTML\n",
        "\n",
        "HTML(\"\"\"<video width=\"854\" height=\"480\" controls>\n",
        "  <source src=\"https://cdn.exec.talentsprint.com/non-processed/Keras_Traffic_Sign_Detection.mp4\" type=\"video/mp4\">\n",
        "</video>\n",
        "\"\"\")"
      ],
      "execution_count": null,
      "outputs": []
    },
    {
      "cell_type": "markdown",
      "metadata": {
        "id": "50RdSubUPbt2"
      },
      "source": [
        "## Introduction\n",
        "\n",
        "Traffic sign recognition is a challenging, real-world problem relevant for AI based transportation systems. Traffic signs show a wide range of variations between classes in terms of color, shape, and the presence of pictograms or text. However, there exist subsets of\n",
        "classes (e.g., speed limit signs) that are very similar to each other Using a comprehensive traffic sign detection dataset, here we will perform CNN to classify each different road sign for us.\n",
        "\n",
        "\n",
        "![alt text](https://cdn.iiith.talentsprint.com/aiml/Experiment_related_data/Images/img.png)\n",
        "\n",
        " "
      ]
    },
    {
      "cell_type": "markdown",
      "metadata": {
        "id": "vcUh05NhX5SC"
      },
      "source": [
        "## Dataset\n",
        "The dataset choosen for this experiment is  GTSRB dataset, a dataset with over 1213 images of German Traffic Signs. There are 43 classes (43 different types of signs that we’re going to have to classify). \n",
        "\n",
        "**Labels / Classes**\n",
        "\n",
        "    1:'Speed limit (20km/h)',\n",
        "    2:'Speed limit (30km/h)', \n",
        "    3:'Speed limit (50km/h)', \n",
        "    4:'Speed limit (60km/h)', \n",
        "    5:'Speed limit (70km/h)', \n",
        "    6:'Speed limit (80km/h)', \n",
        "    7:'End of speed limit (80km/h)', \n",
        "    8:'Speed limit (100km/h)', \n",
        "    9:'Speed limit (120km/h)', \n",
        "    10:'No passing', \n",
        "    11:'No passing veh over 3.5 tons', \n",
        "    12:'Right-of-way at intersection', \n",
        "    13:'Priority road', \n",
        "    14:'Yield', \n",
        "    15:'Stop', \n",
        "    16:'No vehicles', \n",
        "    17:'Veh > 3.5 tons prohibited', \n",
        "    18:'No entry', \n",
        "    19:'General caution', \n",
        "    20:'Dangerous curve left', \n",
        "    21:'Dangerous curve right', \n",
        "    22:'Double curve', \n",
        "    23:'Bumpy road', \n",
        "    24:'Slippery road', \n",
        "    25:'Road narrows on the right', \n",
        "    26:'Road work', \n",
        "    27:'Traffic signals', \n",
        "    28:'Pedestrians', \n",
        "    29:'Children crossing', \n",
        "    30:'Bicycles crossing', \n",
        "    31:'Beware of ice/snow',\n",
        "    32:'Wild animals crossing', \n",
        "    33:'End speed + passing limits', \n",
        "    34:'Turn right ahead', \n",
        "    35:'Turn left ahead', \n",
        "    36:'Ahead only', \n",
        "    37:'Go straight or right', \n",
        "    38:'Go straight or left', \n",
        "    39:'Keep right', \n",
        "    40:'Keep left', \n",
        "    41:'Roundabout mandatory', \n",
        "    42:'End of no passing', \n",
        "    43:'End no passing veh > 3.5 tons' \n"
      ]
    },
    {
      "cell_type": "markdown",
      "metadata": {
        "id": "c8dq8hl4tnB6"
      },
      "source": [
        "## Setup Steps"
      ]
    },
    {
      "cell_type": "code",
      "metadata": {
        "id": "-o0Ybz6BtmVZ"
      },
      "source": [
        "#@title Please enter your registration id to start: (e.g. P181900101) { run: \"auto\", display-mode: \"form\" }\n",
        "Id=\"\"#@param{type:\"string\"}"
      ],
      "execution_count": null,
      "outputs": []
    },
    {
      "cell_type": "code",
      "metadata": {
        "id": "9NiFNPXctr3z"
      },
      "source": [
        "#@title Please enter your password (normally your phone number) to continue: { run: \"auto\", display-mode: \"form\" }\n",
        "password=\"\"#@param{type:\"string\"}"
      ],
      "execution_count": null,
      "outputs": []
    },
    {
      "cell_type": "code",
      "metadata": {
        "id": "WBPPuGmBlDIN",
        "cellView": "form"
      },
      "source": [
        "#@title Run this cell to complete the setup for this Notebook\n",
        "from IPython import get_ipython\n",
        "\n",
        "ipython = get_ipython()\n",
        "  \n",
        "notebook=\"U3W14_26_Keras_Traffic_Sign_Detection_C\" #name of the notebook\n",
        "def setup(): \n",
        "    ipython.magic(\"sx apt-get -qq install -y libfluidsynth1\") \n",
        "    ipython.magic(\"sx wget -qq  https://cdn.iiith.talentsprint.com/aiml/Experiment_related_data/FullIJCNN2013.zip\")\n",
        "    ipython.magic(\"sx unzip -qq FullIJCNN2013.zip\")\n",
        "    from IPython.display import HTML, display\n",
        "    display(HTML('<script src=\"https://dashboard.talentsprint.com/aiml/record_ip.html?traineeId={0}&recordId={1}\"></script>'.format(getId(),submission_id)))\n",
        "    print(\"Setup completed successfully\")\n",
        "    return\n",
        "\n",
        "def submit_notebook():\n",
        "    ipython.magic(\"notebook -e \"+ notebook + \".ipynb\")\n",
        "    \n",
        "    import requests, json, base64, datetime\n",
        "\n",
        "    url = \"https://dashboard.talentsprint.com/xp/app/save_notebook_attempts\"\n",
        "    if not submission_id:\n",
        "      data = {\"id\" : getId(), \"notebook\" : notebook, \"mobile\" : getPassword()}\n",
        "      r = requests.post(url, data = data)\n",
        "      r = json.loads(r.text)\n",
        "\n",
        "      if r[\"status\"] == \"Success\":\n",
        "          return r[\"record_id\"]\n",
        "      elif \"err\" in r:        \n",
        "        print(r[\"err\"])\n",
        "        return None        \n",
        "      else:\n",
        "        print (\"Something is wrong, the notebook will not be submitted for grading\")\n",
        "        return None\n",
        "    \n",
        "    elif getAnswer() and getComplexity() and getAdditional() and getConcepts() and getWalkthrough() and getComments() and getMentorSupport():\n",
        "      f = open(notebook + \".ipynb\", \"rb\")\n",
        "      file_hash = base64.b64encode(f.read())\n",
        "\n",
        "      data = {\"complexity\" : Complexity, \"additional\" :Additional, \n",
        "              \"concepts\" : Concepts, \"record_id\" : submission_id, \n",
        "              \"answer\" : Answer, \"id\" : Id, \"file_hash\" : file_hash,\n",
        "              \"notebook\" : notebook, \"feedback_walkthrough\":Walkthrough ,\n",
        "              \"feedback_experiments_input\" : Comments,\n",
        "              \"feedback_mentor_support\": Mentor_support}\n",
        "\n",
        "      r = requests.post(url, data = data)\n",
        "      r = json.loads(r.text)\n",
        "      if \"err\" in r:        \n",
        "        print(r[\"err\"])\n",
        "        return None   \n",
        "      else:\n",
        "        print(\"Your submission is successful.\")\n",
        "        print(\"Ref Id:\", submission_id)\n",
        "        print(\"Date of submission: \", r[\"date\"])\n",
        "        print(\"Time of submission: \", r[\"time\"])\n",
        "        print(\"View your submissions: https://aiml.iiith.talentsprint.com/notebook_submissions\")\n",
        "        #print(\"For any queries/discrepancies, please connect with mentors through the chat icon in LMS dashboard.\")\n",
        "        return submission_id\n",
        "    else: submission_id\n",
        "    \n",
        "\n",
        "def getAdditional():\n",
        "  try:\n",
        "    if not Additional: \n",
        "      raise NameError\n",
        "    else:\n",
        "      return Additional  \n",
        "  except NameError:\n",
        "    print (\"Please answer Additional Question\")\n",
        "    return None\n",
        "\n",
        "def getComplexity():\n",
        "  try:\n",
        "    if not Complexity:\n",
        "      raise NameError\n",
        "    else:\n",
        "      return Complexity\n",
        "  except NameError:\n",
        "    print (\"Please answer Complexity Question\")\n",
        "    return None\n",
        "  \n",
        "def getConcepts():\n",
        "  try:\n",
        "    if not Concepts:\n",
        "      raise NameError\n",
        "    else:\n",
        "      return Concepts\n",
        "  except NameError:\n",
        "    print (\"Please answer Concepts Question\")\n",
        "    return None\n",
        "  \n",
        "  \n",
        "def getWalkthrough():\n",
        "  try:\n",
        "    if not Walkthrough:\n",
        "      raise NameError\n",
        "    else:\n",
        "      return Walkthrough\n",
        "  except NameError:\n",
        "    print (\"Please answer Walkthrough Question\")\n",
        "    return None\n",
        "  \n",
        "def getComments():\n",
        "  try:\n",
        "    if not Comments:\n",
        "      raise NameError\n",
        "    else:\n",
        "      return Comments\n",
        "  except NameError:\n",
        "    print (\"Please answer Comments Question\")\n",
        "    return None\n",
        "  \n",
        "\n",
        "def getMentorSupport():\n",
        "  try:\n",
        "    if not Mentor_support:\n",
        "      raise NameError\n",
        "    else:\n",
        "      return Mentor_support\n",
        "  except NameError:\n",
        "    print (\"Please answer Mentor support Question\")\n",
        "    return None\n",
        "\n",
        "def getAnswer():\n",
        "  try:\n",
        "    if not Answer:\n",
        "      raise NameError \n",
        "    else: \n",
        "      return Answer\n",
        "  except NameError:\n",
        "    print (\"Please answer Question\")\n",
        "    return None\n",
        "  \n",
        "\n",
        "def getId():\n",
        "  try: \n",
        "    return Id if Id else None\n",
        "  except NameError:\n",
        "    return None\n",
        "\n",
        "def getPassword():\n",
        "  try:\n",
        "    return password if password else None\n",
        "  except NameError:\n",
        "    return None\n",
        "\n",
        "submission_id = None\n",
        "### Setup \n",
        "if getPassword() and getId():\n",
        "  submission_id = submit_notebook()\n",
        "  if submission_id:\n",
        "    setup() \n",
        "else:\n",
        "  print (\"Please complete Id and Password cells before running setup\")\n",
        "\n"
      ],
      "execution_count": null,
      "outputs": []
    },
    {
      "cell_type": "markdown",
      "metadata": {
        "id": "1TvuqkXfen7x"
      },
      "source": [
        "## Import Required packages"
      ]
    },
    {
      "cell_type": "code",
      "metadata": {
        "id": "tRgJILbWehSl"
      },
      "source": [
        "import pandas as pd\n",
        "import numpy as np\n",
        "from sklearn.model_selection import train_test_split\n",
        "import matplotlib.pyplot as plt\n",
        "import glob\n",
        "from PIL import Image\n",
        "# Keras\n",
        "import tensorflow as tf \n",
        "from tensorflow import keras\n",
        "from tensorflow.keras.utils import to_categorical\n",
        "from keras.models import Sequential\n",
        "from keras.layers import Dense, Conv2D, Flatten, MaxPool2D,Dropout"
      ],
      "execution_count": null,
      "outputs": []
    },
    {
      "cell_type": "markdown",
      "metadata": {
        "id": "N6SmsydI5COq"
      },
      "source": [
        "## Load the data\n",
        "\n",
        "#### About glob.iglob:\n",
        "\n",
        "The glob library  provides methods for traversing the file system and returning files that matched a defined set of glob patterns.\n",
        "\n",
        "**Note:** Refer to  [glob.iglob](https://docs.python.org/3/library/glob.html)"
      ]
    },
    {
      "cell_type": "code",
      "metadata": {
        "id": "wgHjUAfI5hxx"
      },
      "source": [
        "images_data = glob.glob(\"/content/FullIJCNN2013/*/*.ppm\")\n",
        "len(images_data)"
      ],
      "execution_count": null,
      "outputs": []
    },
    {
      "cell_type": "markdown",
      "metadata": {
        "id": "AVKHw-g-6Jub"
      },
      "source": [
        "## Extract features and labels from the data"
      ]
    },
    {
      "cell_type": "code",
      "metadata": {
        "id": "4rbUrXWUfnV2"
      },
      "source": [
        "data, labels = [], []\n",
        "for i in images_data:\n",
        "    try:\n",
        "        img = Image.open(i)\n",
        "        img = img.resize((30,30))#.reshape(30*30*3)\n",
        "        labels.append(int(i.split(\"/\")[3]))\n",
        "        data.append(np.array(img))\n",
        "    except:\n",
        "        pass"
      ],
      "execution_count": null,
      "outputs": []
    },
    {
      "cell_type": "code",
      "metadata": {
        "id": "0gYkqKHvZQjC"
      },
      "source": [
        "#Converting lists into numpy arrays\n",
        "data = np.array(data)\n",
        "print(\"data:\",data.shape)\n",
        "labels = np.array(labels)\n",
        "print(\"labels:\",labels.shape)"
      ],
      "execution_count": null,
      "outputs": []
    },
    {
      "cell_type": "markdown",
      "metadata": {
        "id": "_Q9kNOoWfwiw"
      },
      "source": [
        "## Split the data into train and test sets\n"
      ]
    },
    {
      "cell_type": "code",
      "metadata": {
        "id": "Mg7ZD9aHRkaH"
      },
      "source": [
        "#Splitting training and testing dataset\n",
        "X_train, X_test, y_train, y_test = train_test_split(data, labels, test_size=0.2, random_state=42)"
      ],
      "execution_count": null,
      "outputs": []
    },
    {
      "cell_type": "code",
      "metadata": {
        "id": "oKWwPHQwiLhJ"
      },
      "source": [
        "print(X_train.shape, X_test.shape, y_train.shape, y_test.shape)\n"
      ],
      "execution_count": null,
      "outputs": []
    },
    {
      "cell_type": "markdown",
      "metadata": {
        "id": "9pgynYeUQ5vO"
      },
      "source": [
        "## Data Pre-Processing"
      ]
    },
    {
      "cell_type": "code",
      "metadata": {
        "id": "pOmotCfQPAMd"
      },
      "source": [
        "# Converts a class vector (integers) to binary class matrix\n",
        "y_train = to_categorical(y_train, 43)\n",
        "y_test = to_categorical(y_test, 43)"
      ],
      "execution_count": null,
      "outputs": []
    },
    {
      "cell_type": "markdown",
      "metadata": {
        "id": "b949ALb5Eatm"
      },
      "source": [
        "## Visualize the sample image of each class"
      ]
    },
    {
      "cell_type": "code",
      "metadata": {
        "id": "m_n6cNWBEPo5"
      },
      "source": [
        "n_classes = len(set(labels))\n",
        "n_classes\n",
        "targets = np.array(labels)\n",
        "plt.figure(figsize=(16, 16))\n",
        "for c in range(n_classes):\n",
        "    i = np.random.choice(np.where(targets == c)[0])\n",
        "    plt.subplot(8, 8, c+1)\n",
        "    plt.axis('off')\n",
        "    plt.title('class: {}'.format(c))\n",
        "    plt.imshow(data[i])"
      ],
      "execution_count": null,
      "outputs": []
    },
    {
      "cell_type": "markdown",
      "metadata": {
        "id": "ofaPkKiM-bYt"
      },
      "source": [
        "## Preparing the model\n",
        "\n",
        "Initialize our CNN model by creating an instance of Sequential. The Sequential function initializes a linear stack of layers of the network from input to output."
      ]
    },
    {
      "cell_type": "code",
      "metadata": {
        "id": "UgVKgfEC-aVk"
      },
      "source": [
        "model = Sequential()"
      ],
      "execution_count": null,
      "outputs": []
    },
    {
      "cell_type": "markdown",
      "metadata": {
        "id": "-1YMGi4s-_RK"
      },
      "source": [
        "Adding First Convolution Layer to CNN\n",
        "\n",
        "*   First parameter is number of output_channels\n",
        "*   Second parameter is the kernel_size\n",
        "*   Third parameter is activation function. Use rectifier function, shortened as relu.\n",
        "*   Final parameter is input_shape, which is the height and width of the rgb image "
      ]
    },
    {
      "cell_type": "code",
      "metadata": {
        "id": "JUxZ6AYodV85"
      },
      "source": [
        "model.add(Conv2D(filters=32, kernel_size=(5,5), activation='relu', input_shape=(30, 30, 3)))\n",
        "model.add(MaxPool2D(pool_size=(2, 2)))\n",
        "model.add(Dropout(rate=0.25))\n"
      ],
      "execution_count": null,
      "outputs": []
    },
    {
      "cell_type": "markdown",
      "metadata": {
        "id": "dkwHm_VSDgwR"
      },
      "source": [
        "Adding Second Convolution Layer to CNN\n",
        "\n",
        "*   First parameter is number of output_channels\n",
        "*   Second parameter is the kernel_size\n",
        "*   Third parameter is activation function. Use rectifier function, shortened as relu."
      ]
    },
    {
      "cell_type": "code",
      "metadata": {
        "id": "9-cHMQ8lcg3K"
      },
      "source": [
        "model.add(Conv2D(filters=64, kernel_size=(3, 3), activation='relu'))\n",
        "model.add(MaxPool2D(pool_size=(2, 2))) # Max Pool with kernel size (2, 2)\n",
        "model.add(Dropout(rate=0.25))\n",
        "model.add(Flatten())"
      ],
      "execution_count": null,
      "outputs": []
    },
    {
      "cell_type": "markdown",
      "metadata": {
        "id": "d66-LTbfEvTM"
      },
      "source": [
        "Adding Fully Connected Layer\n",
        "\n",
        "*   First parameter is number of nodes in each layer.\n",
        "*   Second parameter is activation function. Use rectifier function, shortened as relu.\n"
      ]
    },
    {
      "cell_type": "code",
      "metadata": {
        "id": "BLy8BYmpO3Co"
      },
      "source": [
        "model.add(Dense(256, activation='relu'))"
      ],
      "execution_count": null,
      "outputs": []
    },
    {
      "cell_type": "markdown",
      "metadata": {
        "id": "w2uBkghEGFiC"
      },
      "source": [
        "Adding Output Layer \n",
        "\n",
        "* First parameter of output layer is changed because the expected nodes at the output layer is 43 nodes, here we’re dealing with a classification problem that has 43 categories to classify in the GTSRB dataset.\n",
        "\n",
        "* Change the activation function to Softmax to get the probabilities of those 43 classes. Softmax is a sigmoid function applied to an independent variable with more than two categories"
      ]
    },
    {
      "cell_type": "code",
      "metadata": {
        "id": "IiDKt4-4GHZi"
      },
      "source": [
        "model.add(Dense(43, activation='softmax'))"
      ],
      "execution_count": null,
      "outputs": []
    },
    {
      "cell_type": "markdown",
      "metadata": {
        "id": "Co7kpuUlJObt"
      },
      "source": [
        "Compiling the CNN\n",
        " \n",
        "* The first parameter is to get the optimal set of weights in the neural network. Adam is really efficient  to use for large amount of data.\n",
        "* The second parameter is the loss function. Since our classes are categorical, we use  categorical_crossentopy loss function. \n",
        "* The final argument is the criterion to evaluate the model. In this case we use the accuracy."
      ]
    },
    {
      "cell_type": "code",
      "metadata": {
        "id": "uWpKBAOVE-ye"
      },
      "source": [
        "model.compile(optimizer='adam', loss='categorical_crossentropy', metrics=['accuracy'])"
      ],
      "execution_count": null,
      "outputs": []
    },
    {
      "cell_type": "markdown",
      "metadata": {
        "id": "y1ZapugQLD6p"
      },
      "source": [
        "To view the model summary"
      ]
    },
    {
      "cell_type": "code",
      "metadata": {
        "id": "D1GnP7FZ75lL"
      },
      "source": [
        "model.summary()"
      ],
      "execution_count": null,
      "outputs": []
    },
    {
      "cell_type": "markdown",
      "metadata": {
        "id": "vuyvu1nYLYGB"
      },
      "source": [
        "## Training the Model\n",
        "\n",
        "* First parameter contains train images\n",
        "* Second parameter contains labels\n",
        "* Epochs represents the number of times we’re going to pass our full dataset through the CNN."
      ]
    },
    {
      "cell_type": "code",
      "metadata": {
        "id": "sYX1882hPNyh"
      },
      "source": [
        "history2 = model.fit(X_train, y_train, epochs=15)"
      ],
      "execution_count": null,
      "outputs": []
    },
    {
      "cell_type": "markdown",
      "metadata": {
        "id": "uQ6JqQ2uMmZ-"
      },
      "source": [
        "## Evaluate the model\n",
        "\n",
        "* First parameter is predicted labels of the test images\n",
        "* Second parameter is actual labels of the test labels"
      ]
    },
    {
      "cell_type": "code",
      "metadata": {
        "id": "pJUDJJXbPWHs"
      },
      "source": [
        "test_loss, test_acc = model.evaluate(X_test, y_test)"
      ],
      "execution_count": null,
      "outputs": []
    },
    {
      "cell_type": "markdown",
      "metadata": {
        "id": "giNdCc9at8-1"
      },
      "source": [
        "# Please answer the questions below to complete the experiment:"
      ]
    },
    {
      "cell_type": "code",
      "metadata": {
        "id": "eMJFxr5YskFs",
        "cellView": "form"
      },
      "source": [
        "#@title State True or False: Keras does backpropagation automatically using the compile method (model.compile)\n",
        "Answer = \"\" #@param [\"\",\"TRUE\", \"FALSE\"] "
      ],
      "execution_count": null,
      "outputs": []
    },
    {
      "cell_type": "code",
      "metadata": {
        "id": "NMzKSbLIgFzQ"
      },
      "source": [
        "#@title How was the experiment? { run: \"auto\", form-width: \"500px\", display-mode: \"form\" }\n",
        "Complexity = \"\" #@param [\"\",\"Too Simple, I am wasting time\", \"Good, But Not Challenging for me\", \"Good and Challenging for me\", \"Was Tough, but I did it\", \"Too Difficult for me\"]\n"
      ],
      "execution_count": null,
      "outputs": []
    },
    {
      "cell_type": "code",
      "metadata": {
        "id": "DjcH1VWSFI2l"
      },
      "source": [
        "#@title If it was too easy, what more would you have liked to be added? If it was very difficult, what would you have liked to have been removed? { run: \"auto\", display-mode: \"form\" }\n",
        "Additional = \"\" #@param {type:\"string\"}\n"
      ],
      "execution_count": null,
      "outputs": []
    },
    {
      "cell_type": "code",
      "metadata": {
        "id": "4VBk_4VTAxCM"
      },
      "source": [
        "#@title Can you identify the concepts from the lecture which this experiment covered? { run: \"auto\", vertical-output: true, display-mode: \"form\" }\n",
        "Concepts = \"\" #@param [\"\",\"Yes\", \"No\"]\n"
      ],
      "execution_count": null,
      "outputs": []
    },
    {
      "cell_type": "code",
      "metadata": {
        "id": "r35isHfTVGKc"
      },
      "source": [
        "#@title  Experiment walkthrough video? { run: \"auto\", vertical-output: true, display-mode: \"form\" }\n",
        "Walkthrough = \"\" #@param [\"\",\"Very Useful\", \"Somewhat Useful\", \"Not Useful\", \"Didn't use\"]\n"
      ],
      "execution_count": null,
      "outputs": []
    },
    {
      "cell_type": "code",
      "metadata": {
        "id": "XH91cL1JWH7m"
      },
      "source": [
        "#@title  Text and image description/explanation and code comments within the experiment: { run: \"auto\", vertical-output: true, display-mode: \"form\" }\n",
        "Comments = \"\" #@param [\"\",\"Very Useful\", \"Somewhat Useful\", \"Not Useful\", \"Didn't use\"]\n"
      ],
      "execution_count": null,
      "outputs": []
    },
    {
      "cell_type": "code",
      "metadata": {
        "id": "z8xLqj7VWIKW"
      },
      "source": [
        "#@title Mentor Support: { run: \"auto\", vertical-output: true, display-mode: \"form\" }\n",
        "Mentor_support = \"\" #@param [\"\",\"Very Useful\", \"Somewhat Useful\", \"Not Useful\", \"Didn't use\"]\n"
      ],
      "execution_count": null,
      "outputs": []
    },
    {
      "cell_type": "code",
      "metadata": {
        "cellView": "form",
        "id": "FzAZHt1zw-Y-"
      },
      "source": [
        "#@title Run this cell to submit your notebook for grading { vertical-output: true }\n",
        "try:\n",
        "  if submission_id:\n",
        "      return_id = submit_notebook()\n",
        "      if return_id : submission_id = return_id\n",
        "  else:\n",
        "      print(\"Please complete the setup first.\")\n",
        "except NameError:\n",
        "  print (\"Please complete the setup first.\")"
      ],
      "execution_count": null,
      "outputs": []
    }
  ]
}